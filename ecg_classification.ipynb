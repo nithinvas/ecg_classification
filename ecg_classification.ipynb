{
  "cells": [
    {
      "cell_type": "code",
      "execution_count": 1,
      "metadata": {
        "colab": {
          "base_uri": "https://localhost:8080/"
        },
        "id": "XqwgrsziPkMo",
        "outputId": "af6075e2-a513-4506-d07a-572f4ee20188"
      },
      "outputs": [
        {
          "output_type": "stream",
          "name": "stdout",
          "text": [
            "Mounted at /content/drive\n"
          ]
        }
      ],
      "source": [
        "from google.colab import drive\n",
        "drive.mount('/content/drive')\n"
      ]
    },
    {
      "cell_type": "code",
      "execution_count": 2,
      "metadata": {
        "colab": {
          "base_uri": "https://localhost:8080/"
        },
        "id": "IVmqj3XrRFAJ",
        "outputId": "c6885154-a66a-4adf-de49-82d15685d372"
      },
      "outputs": [
        {
          "output_type": "stream",
          "name": "stdout",
          "text": [
            "Looking in indexes: https://pypi.org/simple, https://us-python.pkg.dev/colab-wheels/public/simple/\n",
            "Requirement already satisfied: tqdm in /usr/local/lib/python3.9/dist-packages (4.65.0)\n",
            "Looking in indexes: https://pypi.org/simple, https://us-python.pkg.dev/colab-wheels/public/simple/\n",
            "Collecting wfdb\n",
            "  Downloading wfdb-4.1.1-py3-none-any.whl (159 kB)\n",
            "\u001b[2K     \u001b[90m━━━━━━━━━━━━━━━━━━━━━━━━━━━━━━━━━━━━━━━\u001b[0m \u001b[32m159.9/159.9 kB\u001b[0m \u001b[31m7.9 MB/s\u001b[0m eta \u001b[36m0:00:00\u001b[0m\n",
            "\u001b[?25hRequirement already satisfied: scipy>=1.0.0 in /usr/local/lib/python3.9/dist-packages (from wfdb) (1.10.1)\n",
            "Requirement already satisfied: pandas>=1.3.0 in /usr/local/lib/python3.9/dist-packages (from wfdb) (1.5.3)\n",
            "Requirement already satisfied: matplotlib>=3.2.2 in /usr/local/lib/python3.9/dist-packages (from wfdb) (3.7.1)\n",
            "Requirement already satisfied: SoundFile>=0.10.0 in /usr/local/lib/python3.9/dist-packages (from wfdb) (0.12.1)\n",
            "Requirement already satisfied: numpy>=1.10.1 in /usr/local/lib/python3.9/dist-packages (from wfdb) (1.22.4)\n",
            "Requirement already satisfied: requests>=2.8.1 in /usr/local/lib/python3.9/dist-packages (from wfdb) (2.27.1)\n",
            "Requirement already satisfied: pyparsing>=2.3.1 in /usr/local/lib/python3.9/dist-packages (from matplotlib>=3.2.2->wfdb) (3.0.9)\n",
            "Requirement already satisfied: contourpy>=1.0.1 in /usr/local/lib/python3.9/dist-packages (from matplotlib>=3.2.2->wfdb) (1.0.7)\n",
            "Requirement already satisfied: python-dateutil>=2.7 in /usr/local/lib/python3.9/dist-packages (from matplotlib>=3.2.2->wfdb) (2.8.2)\n",
            "Requirement already satisfied: fonttools>=4.22.0 in /usr/local/lib/python3.9/dist-packages (from matplotlib>=3.2.2->wfdb) (4.39.3)\n",
            "Requirement already satisfied: importlib-resources>=3.2.0 in /usr/local/lib/python3.9/dist-packages (from matplotlib>=3.2.2->wfdb) (5.12.0)\n",
            "Requirement already satisfied: pillow>=6.2.0 in /usr/local/lib/python3.9/dist-packages (from matplotlib>=3.2.2->wfdb) (8.4.0)\n",
            "Requirement already satisfied: cycler>=0.10 in /usr/local/lib/python3.9/dist-packages (from matplotlib>=3.2.2->wfdb) (0.11.0)\n",
            "Requirement already satisfied: kiwisolver>=1.0.1 in /usr/local/lib/python3.9/dist-packages (from matplotlib>=3.2.2->wfdb) (1.4.4)\n",
            "Requirement already satisfied: packaging>=20.0 in /usr/local/lib/python3.9/dist-packages (from matplotlib>=3.2.2->wfdb) (23.1)\n",
            "Requirement already satisfied: pytz>=2020.1 in /usr/local/lib/python3.9/dist-packages (from pandas>=1.3.0->wfdb) (2022.7.1)\n",
            "Requirement already satisfied: urllib3<1.27,>=1.21.1 in /usr/local/lib/python3.9/dist-packages (from requests>=2.8.1->wfdb) (1.26.15)\n",
            "Requirement already satisfied: certifi>=2017.4.17 in /usr/local/lib/python3.9/dist-packages (from requests>=2.8.1->wfdb) (2022.12.7)\n",
            "Requirement already satisfied: idna<4,>=2.5 in /usr/local/lib/python3.9/dist-packages (from requests>=2.8.1->wfdb) (3.4)\n",
            "Requirement already satisfied: charset-normalizer~=2.0.0 in /usr/local/lib/python3.9/dist-packages (from requests>=2.8.1->wfdb) (2.0.12)\n",
            "Requirement already satisfied: cffi>=1.0 in /usr/local/lib/python3.9/dist-packages (from SoundFile>=0.10.0->wfdb) (1.15.1)\n",
            "Requirement already satisfied: pycparser in /usr/local/lib/python3.9/dist-packages (from cffi>=1.0->SoundFile>=0.10.0->wfdb) (2.21)\n",
            "Requirement already satisfied: zipp>=3.1.0 in /usr/local/lib/python3.9/dist-packages (from importlib-resources>=3.2.0->matplotlib>=3.2.2->wfdb) (3.15.0)\n",
            "Requirement already satisfied: six>=1.5 in /usr/local/lib/python3.9/dist-packages (from python-dateutil>=2.7->matplotlib>=3.2.2->wfdb) (1.16.0)\n",
            "Installing collected packages: wfdb\n",
            "Successfully installed wfdb-4.1.1\n",
            "Looking in indexes: https://pypi.org/simple, https://us-python.pkg.dev/colab-wheels/public/simple/\n",
            "Collecting biosppy\n",
            "  Downloading biosppy-1.0.0-py2.py3-none-any.whl (106 kB)\n",
            "\u001b[2K     \u001b[90m━━━━━━━━━━━━━━━━━━━━━━━━━━━━━━━━━━━━━━━\u001b[0m \u001b[32m107.0/107.0 kB\u001b[0m \u001b[31m6.6 MB/s\u001b[0m eta \u001b[36m0:00:00\u001b[0m\n",
            "\u001b[?25hCollecting bidict\n",
            "  Downloading bidict-0.22.1-py3-none-any.whl (35 kB)\n",
            "Requirement already satisfied: opencv-python in /usr/local/lib/python3.9/dist-packages (from biosppy) (4.7.0.72)\n",
            "Requirement already satisfied: h5py in /usr/local/lib/python3.9/dist-packages (from biosppy) (3.8.0)\n",
            "Requirement already satisfied: numpy in /usr/local/lib/python3.9/dist-packages (from biosppy) (1.22.4)\n",
            "Requirement already satisfied: joblib in /usr/local/lib/python3.9/dist-packages (from biosppy) (1.2.0)\n",
            "Requirement already satisfied: scikit-learn in /usr/local/lib/python3.9/dist-packages (from biosppy) (1.2.2)\n",
            "Requirement already satisfied: scipy in /usr/local/lib/python3.9/dist-packages (from biosppy) (1.10.1)\n",
            "Collecting shortuuid\n",
            "  Downloading shortuuid-1.0.11-py3-none-any.whl (10 kB)\n",
            "Requirement already satisfied: six in /usr/local/lib/python3.9/dist-packages (from biosppy) (1.16.0)\n",
            "Requirement already satisfied: matplotlib in /usr/local/lib/python3.9/dist-packages (from biosppy) (3.7.1)\n",
            "Requirement already satisfied: fonttools>=4.22.0 in /usr/local/lib/python3.9/dist-packages (from matplotlib->biosppy) (4.39.3)\n",
            "Requirement already satisfied: packaging>=20.0 in /usr/local/lib/python3.9/dist-packages (from matplotlib->biosppy) (23.1)\n",
            "Requirement already satisfied: pyparsing>=2.3.1 in /usr/local/lib/python3.9/dist-packages (from matplotlib->biosppy) (3.0.9)\n",
            "Requirement already satisfied: importlib-resources>=3.2.0 in /usr/local/lib/python3.9/dist-packages (from matplotlib->biosppy) (5.12.0)\n",
            "Requirement already satisfied: pillow>=6.2.0 in /usr/local/lib/python3.9/dist-packages (from matplotlib->biosppy) (8.4.0)\n",
            "Requirement already satisfied: kiwisolver>=1.0.1 in /usr/local/lib/python3.9/dist-packages (from matplotlib->biosppy) (1.4.4)\n",
            "Requirement already satisfied: cycler>=0.10 in /usr/local/lib/python3.9/dist-packages (from matplotlib->biosppy) (0.11.0)\n",
            "Requirement already satisfied: python-dateutil>=2.7 in /usr/local/lib/python3.9/dist-packages (from matplotlib->biosppy) (2.8.2)\n",
            "Requirement already satisfied: contourpy>=1.0.1 in /usr/local/lib/python3.9/dist-packages (from matplotlib->biosppy) (1.0.7)\n",
            "Requirement already satisfied: threadpoolctl>=2.0.0 in /usr/local/lib/python3.9/dist-packages (from scikit-learn->biosppy) (3.1.0)\n",
            "Requirement already satisfied: zipp>=3.1.0 in /usr/local/lib/python3.9/dist-packages (from importlib-resources>=3.2.0->matplotlib->biosppy) (3.15.0)\n",
            "Installing collected packages: shortuuid, bidict, biosppy\n",
            "Successfully installed bidict-0.22.1 biosppy-1.0.0 shortuuid-1.0.11\n"
          ]
        }
      ],
      "source": [
        "!pip install tqdm\n",
        "!pip install wfdb\n",
        "!pip install biosppy"
      ]
    },
    {
      "cell_type": "code",
      "execution_count": 3,
      "metadata": {
        "id": "7F2Vfd5HPsnc"
      },
      "outputs": [],
      "source": [
        "import wfdb \n",
        "import numpy as np\n",
        "from matplotlib import pyplot as plt\n",
        "from biosppy.signals import ecg\n",
        "from scipy import signal\n",
        "import pandas as pd\n",
        "from sklearn.metrics import precision_score,recall_score, confusion_matrix, classification_report,accuracy_score, f1_score\n",
        "import random"
      ]
    },
    {
      "cell_type": "code",
      "execution_count": 4,
      "metadata": {
        "id": "xfYCTZ_VTJwM"
      },
      "outputs": [],
      "source": [
        "import os\n",
        "os.chdir('/content/drive/MyDrive/mit-bih-arrhythmia-database-1.0.0')"
      ]
    },
    {
      "cell_type": "markdown",
      "source": [
        "# ***Displaying signal graph of few patients***"
      ],
      "metadata": {
        "id": "JFIfZ2nmdkXE"
      }
    },
    {
      "cell_type": "code",
      "execution_count": 5,
      "metadata": {
        "colab": {
          "base_uri": "https://localhost:8080/",
          "height": 850
        },
        "id": "U-kCflSjTaXD",
        "outputId": "a94d9675-269d-453b-f20d-1e1565167ed0"
      },
      "outputs": [
        {
          "output_type": "display_data",
          "data": {
            "text/plain": [
              "<Figure size 2000x1000 with 1 Axes>"
            ],
            "image/png": "[encoded data removed]"
          },
          "metadata": {}
        }
      ],
      "source": [
        "FILE=1                # There are 48 files.\n",
        "CHANNEL=0             # There are 2 channels\n",
        "SAMPLE_START=114000   # Start of the sample in the file.\n",
        "SAMPLE_SIZE=4000      # Number of readings (360 per second).\n",
        "\n",
        "record_name = '103'\n",
        "record_path = os.path.join(os.getcwd(), record_name)\n",
        "record = wfdb.rdsamp(record_path)\n",
        "annotation = wfdb.rdann(record_path, 'atr')\n",
        "\n",
        "# Get data and annotations for the samples selected below.\n",
        "sample_end = SAMPLE_START + SAMPLE_SIZE\n",
        "channel = record[0][SAMPLE_START:sample_end, CHANNEL]\n",
        "\n",
        "# Plot the heart beats. Time scale is number of readings\n",
        "# divided by sampling frequency.\n",
        "times = (np.arange(SAMPLE_SIZE, dtype = 'float') + SAMPLE_START) / record[1].get('fs')\n",
        "plt.figure(figsize=(20,10))\n",
        "plt.plot(times, channel)\n",
        "\n",
        "# Extract annotations.\n",
        "where = np.logical_and(annotation.sample >= SAMPLE_START, annotation.sample < sample_end)\n",
        "annots = annotation.sample[where] - SAMPLE_START\n",
        "annotypes = np.array(annotation.symbol)\n",
        "annotypes = annotypes[where]\n",
        "\n",
        "# Plot the Annotations.\n",
        "annotimes = times[annots]\n",
        "plt.plot(annotimes, np.ones_like(annotimes) * channel.max() * 1.4, 'ro')\n",
        "\n",
        "# Annotation codes.\n",
        "for idx, annot in enumerate(annots):\n",
        "    plt.annotate(annotypes[idx], xy = (times[annot], channel.max() * 1.1))\n",
        "\n",
        "plt.xlim([SAMPLE_START / record[1].get('fs'), (sample_end / record[1].get('fs')) + 1])\n",
        "plt.xlabel('Offset')\n",
        "plt.ylabel(record[1].get('sig_name')[CHANNEL])\n",
        "plt.show()"
      ]
    },
    {
      "cell_type": "code",
      "execution_count": 6,
      "metadata": {
        "colab": {
          "base_uri": "https://localhost:8080/",
          "height": 850
        },
        "id": "Jz8LlTWcgqgu",
        "outputId": "4486c677-2c10-437e-e4ad-71e462de220b"
      },
      "outputs": [
        {
          "output_type": "display_data",
          "data": {
            "text/plain": [
              "<Figure size 2000x1000 with 1 Axes>"
            ],
            "image/png": "[encoded data removed]"
          },
          "metadata": {}
        }
      ],
      "source": [
        "FILE=1                # There are 48 files.\n",
        "CHANNEL=0             # There are 2 channels\n",
        "SAMPLE_START=114000   # Start of the sample in the file.\n",
        "SAMPLE_SIZE=4000      # Number of readings (360 per second).\n",
        "\n",
        "record_name = '213'\n",
        "record_path = os.path.join(os.getcwd(), record_name)\n",
        "record = wfdb.rdsamp(record_path)\n",
        "annotation = wfdb.rdann(record_path, 'atr')\n",
        "\n",
        "# Get data and annotations for the samples selected below.\n",
        "sample_end = SAMPLE_START + SAMPLE_SIZE\n",
        "channel = record[0][SAMPLE_START:sample_end, CHANNEL]\n",
        "\n",
        "# Plot the heart beats. Time scale is number of readings\n",
        "# divided by sampling frequency.\n",
        "times = (np.arange(SAMPLE_SIZE, dtype = 'float') + SAMPLE_START) / record[1].get('fs')\n",
        "plt.figure(figsize=(20,10))\n",
        "plt.plot(times, channel)\n",
        "\n",
        "# Extract annotations.\n",
        "where = np.logical_and(annotation.sample >= SAMPLE_START, annotation.sample < sample_end)\n",
        "annots = annotation.sample[where] - SAMPLE_START\n",
        "annotypes = np.array(annotation.symbol)\n",
        "annotypes = annotypes[where]\n",
        "\n",
        "# Plot the Annotations.\n",
        "annotimes = times[annots]\n",
        "plt.plot(annotimes, np.ones_like(annotimes) * channel.max() * 1.4, 'ro')\n",
        "\n",
        "# Annotation codes.\n",
        "for idx, annot in enumerate(annots):\n",
        "    plt.annotate(annotypes[idx], xy = (times[annot], channel.max() * 1.1))\n",
        "\n",
        "plt.xlim([SAMPLE_START / record[1].get('fs'), (sample_end / record[1].get('fs')) + 1])\n",
        "plt.xlabel('Offset')\n",
        "plt.ylabel(record[1].get('sig_name')[CHANNEL])\n",
        "plt.show()"
      ]
    },
    {
      "cell_type": "markdown",
      "source": [
        "# ***Feature Extraction and Data Preprocessing***"
      ],
      "metadata": {
        "id": "9IqzEJDOclgP"
      }
    },
    {
      "cell_type": "code",
      "execution_count": 7,
      "metadata": {
        "colab": {
          "base_uri": "https://localhost:8080/"
        },
        "id": "cTUIJayRRPVb",
        "outputId": "282684d3-ff9a-46df-e4de-377577394696"
      },
      "outputs": [
        {
          "output_type": "stream",
          "name": "stdout",
          "text": [
            "    ECG channel type: MLII 0\n"
          ]
        },
        {
          "output_type": "stream",
          "name": "stderr",
          "text": [
            "/usr/local/lib/python3.9/dist-packages/numpy/lib/function_base.py:5030: VisibleDeprecationWarning: Creating an ndarray from ragged nested sequences (which is a list-or-tuple of lists-or-tuples-or ndarrays with different lengths or shapes) is deprecated. If you meant to do this, you must specify 'dtype=object' when creating the ndarray.\n",
            "  arr = asarray(arr)\n",
            "<ipython-input-7-93a04bfb9321>:118: DeprecationWarning: `np.float` is a deprecated alias for the builtin `float`. To silence this warning, use `float` by itself. Doing this will not modify any behavior and is safe. If you specifically wanted the numpy scalar type, use `np.float64` here.\n",
            "Deprecated in NumPy 1.20; for more details and guidance: https://numpy.org/devdocs/release/1.20.0-notes.html#deprecations\n",
            "  savedata = np.array(list(beats[:]), dtype=np.float)\n"
          ]
        },
        {
          "output_type": "stream",
          "name": "stdout",
          "text": [
            "    ECG channel type: V2 1\n",
            "    ECG channel type: MLII 0\n"
          ]
        },
        {
          "output_type": "stream",
          "name": "stderr",
          "text": [
            "/usr/local/lib/python3.9/dist-packages/numpy/lib/function_base.py:5030: VisibleDeprecationWarning: Creating an ndarray from ragged nested sequences (which is a list-or-tuple of lists-or-tuples-or ndarrays with different lengths or shapes) is deprecated. If you meant to do this, you must specify 'dtype=object' when creating the ndarray.\n",
            "  arr = asarray(arr)\n",
            "<ipython-input-7-93a04bfb9321>:118: DeprecationWarning: `np.float` is a deprecated alias for the builtin `float`. To silence this warning, use `float` by itself. Doing this will not modify any behavior and is safe. If you specifically wanted the numpy scalar type, use `np.float64` here.\n",
            "Deprecated in NumPy 1.20; for more details and guidance: https://numpy.org/devdocs/release/1.20.0-notes.html#deprecations\n",
            "  savedata = np.array(list(beats[:]), dtype=np.float)\n"
          ]
        },
        {
          "output_type": "stream",
          "name": "stdout",
          "text": [
            "    ECG channel type: V1 1\n",
            "    ECG channel type: V5 0\n"
          ]
        },
        {
          "output_type": "stream",
          "name": "stderr",
          "text": [
            "/usr/local/lib/python3.9/dist-packages/numpy/lib/function_base.py:5030: VisibleDeprecationWarning: Creating an ndarray from ragged nested sequences (which is a list-or-tuple of lists-or-tuples-or ndarrays with different lengths or shapes) is deprecated. If you meant to do this, you must specify 'dtype=object' when creating the ndarray.\n",
            "  arr = asarray(arr)\n",
            "<ipython-input-7-93a04bfb9321>:118: DeprecationWarning: `np.float` is a deprecated alias for the builtin `float`. To silence this warning, use `float` by itself. Doing this will not modify any behavior and is safe. If you specifically wanted the numpy scalar type, use `np.float64` here.\n",
            "Deprecated in NumPy 1.20; for more details and guidance: https://numpy.org/devdocs/release/1.20.0-notes.html#deprecations\n",
            "  savedata = np.array(list(beats[:]), dtype=np.float)\n"
          ]
        },
        {
          "output_type": "stream",
          "name": "stdout",
          "text": [
            "    ECG channel type: V2 1\n",
            "    ECG channel type: MLII 0\n"
          ]
        },
        {
          "output_type": "stream",
          "name": "stderr",
          "text": [
            "/usr/local/lib/python3.9/dist-packages/numpy/lib/function_base.py:5030: VisibleDeprecationWarning: Creating an ndarray from ragged nested sequences (which is a list-or-tuple of lists-or-tuples-or ndarrays with different lengths or shapes) is deprecated. If you meant to do this, you must specify 'dtype=object' when creating the ndarray.\n",
            "  arr = asarray(arr)\n",
            "<ipython-input-7-93a04bfb9321>:118: DeprecationWarning: `np.float` is a deprecated alias for the builtin `float`. To silence this warning, use `float` by itself. Doing this will not modify any behavior and is safe. If you specifically wanted the numpy scalar type, use `np.float64` here.\n",
            "Deprecated in NumPy 1.20; for more details and guidance: https://numpy.org/devdocs/release/1.20.0-notes.html#deprecations\n",
            "  savedata = np.array(list(beats[:]), dtype=np.float)\n"
          ]
        },
        {
          "output_type": "stream",
          "name": "stdout",
          "text": [
            "    ECG channel type: V5 1\n",
            "    ECG channel type: MLII 0\n"
          ]
        },
        {
          "output_type": "stream",
          "name": "stderr",
          "text": [
            "/usr/local/lib/python3.9/dist-packages/numpy/lib/function_base.py:5030: VisibleDeprecationWarning: Creating an ndarray from ragged nested sequences (which is a list-or-tuple of lists-or-tuples-or ndarrays with different lengths or shapes) is deprecated. If you meant to do this, you must specify 'dtype=object' when creating the ndarray.\n",
            "  arr = asarray(arr)\n",
            "<ipython-input-7-93a04bfb9321>:118: DeprecationWarning: `np.float` is a deprecated alias for the builtin `float`. To silence this warning, use `float` by itself. Doing this will not modify any behavior and is safe. If you specifically wanted the numpy scalar type, use `np.float64` here.\n",
            "Deprecated in NumPy 1.20; for more details and guidance: https://numpy.org/devdocs/release/1.20.0-notes.html#deprecations\n",
            "  savedata = np.array(list(beats[:]), dtype=np.float)\n"
          ]
        },
        {
          "output_type": "stream",
          "name": "stdout",
          "text": [
            "    ECG channel type: V1 1\n",
            "    ECG channel type: MLII 0\n"
          ]
        },
        {
          "output_type": "stream",
          "name": "stderr",
          "text": [
            "/usr/local/lib/python3.9/dist-packages/numpy/lib/function_base.py:5030: VisibleDeprecationWarning: Creating an ndarray from ragged nested sequences (which is a list-or-tuple of lists-or-tuples-or ndarrays with different lengths or shapes) is deprecated. If you meant to do this, you must specify 'dtype=object' when creating the ndarray.\n",
            "  arr = asarray(arr)\n",
            "<ipython-input-7-93a04bfb9321>:118: DeprecationWarning: `np.float` is a deprecated alias for the builtin `float`. To silence this warning, use `float` by itself. Doing this will not modify any behavior and is safe. If you specifically wanted the numpy scalar type, use `np.float64` here.\n",
            "Deprecated in NumPy 1.20; for more details and guidance: https://numpy.org/devdocs/release/1.20.0-notes.html#deprecations\n",
            "  savedata = np.array(list(beats[:]), dtype=np.float)\n"
          ]
        },
        {
          "output_type": "stream",
          "name": "stdout",
          "text": [
            "    ECG channel type: V1 1\n",
            "    ECG channel type: MLII 0\n"
          ]
        },
        {
          "output_type": "stream",
          "name": "stderr",
          "text": [
            "/usr/local/lib/python3.9/dist-packages/numpy/lib/function_base.py:5030: VisibleDeprecationWarning: Creating an ndarray from ragged nested sequences (which is a list-or-tuple of lists-or-tuples-or ndarrays with different lengths or shapes) is deprecated. If you meant to do this, you must specify 'dtype=object' when creating the ndarray.\n",
            "  arr = asarray(arr)\n",
            "<ipython-input-7-93a04bfb9321>:118: DeprecationWarning: `np.float` is a deprecated alias for the builtin `float`. To silence this warning, use `float` by itself. Doing this will not modify any behavior and is safe. If you specifically wanted the numpy scalar type, use `np.float64` here.\n",
            "Deprecated in NumPy 1.20; for more details and guidance: https://numpy.org/devdocs/release/1.20.0-notes.html#deprecations\n",
            "  savedata = np.array(list(beats[:]), dtype=np.float)\n"
          ]
        },
        {
          "output_type": "stream",
          "name": "stdout",
          "text": [
            "    ECG channel type: V1 1\n",
            "    ECG channel type: V5 0\n"
          ]
        },
        {
          "output_type": "stream",
          "name": "stderr",
          "text": [
            "/usr/local/lib/python3.9/dist-packages/numpy/lib/function_base.py:5030: VisibleDeprecationWarning: Creating an ndarray from ragged nested sequences (which is a list-or-tuple of lists-or-tuples-or ndarrays with different lengths or shapes) is deprecated. If you meant to do this, you must specify 'dtype=object' when creating the ndarray.\n",
            "  arr = asarray(arr)\n",
            "<ipython-input-7-93a04bfb9321>:118: DeprecationWarning: `np.float` is a deprecated alias for the builtin `float`. To silence this warning, use `float` by itself. Doing this will not modify any behavior and is safe. If you specifically wanted the numpy scalar type, use `np.float64` here.\n",
            "Deprecated in NumPy 1.20; for more details and guidance: https://numpy.org/devdocs/release/1.20.0-notes.html#deprecations\n",
            "  savedata = np.array(list(beats[:]), dtype=np.float)\n"
          ]
        },
        {
          "output_type": "stream",
          "name": "stdout",
          "text": [
            "    ECG channel type: V2 1\n",
            "    ECG channel type: MLII 0\n"
          ]
        },
        {
          "output_type": "stream",
          "name": "stderr",
          "text": [
            "/usr/local/lib/python3.9/dist-packages/numpy/lib/function_base.py:5030: VisibleDeprecationWarning: Creating an ndarray from ragged nested sequences (which is a list-or-tuple of lists-or-tuples-or ndarrays with different lengths or shapes) is deprecated. If you meant to do this, you must specify 'dtype=object' when creating the ndarray.\n",
            "  arr = asarray(arr)\n",
            "<ipython-input-7-93a04bfb9321>:118: DeprecationWarning: `np.float` is a deprecated alias for the builtin `float`. To silence this warning, use `float` by itself. Doing this will not modify any behavior and is safe. If you specifically wanted the numpy scalar type, use `np.float64` here.\n",
            "Deprecated in NumPy 1.20; for more details and guidance: https://numpy.org/devdocs/release/1.20.0-notes.html#deprecations\n",
            "  savedata = np.array(list(beats[:]), dtype=np.float)\n"
          ]
        },
        {
          "output_type": "stream",
          "name": "stdout",
          "text": [
            "    ECG channel type: V1 1\n",
            "    ECG channel type: MLII 0\n"
          ]
        },
        {
          "output_type": "stream",
          "name": "stderr",
          "text": [
            "/usr/local/lib/python3.9/dist-packages/numpy/lib/function_base.py:5030: VisibleDeprecationWarning: Creating an ndarray from ragged nested sequences (which is a list-or-tuple of lists-or-tuples-or ndarrays with different lengths or shapes) is deprecated. If you meant to do this, you must specify 'dtype=object' when creating the ndarray.\n",
            "  arr = asarray(arr)\n",
            "<ipython-input-7-93a04bfb9321>:118: DeprecationWarning: `np.float` is a deprecated alias for the builtin `float`. To silence this warning, use `float` by itself. Doing this will not modify any behavior and is safe. If you specifically wanted the numpy scalar type, use `np.float64` here.\n",
            "Deprecated in NumPy 1.20; for more details and guidance: https://numpy.org/devdocs/release/1.20.0-notes.html#deprecations\n",
            "  savedata = np.array(list(beats[:]), dtype=np.float)\n"
          ]
        },
        {
          "output_type": "stream",
          "name": "stdout",
          "text": [
            "    ECG channel type: V1 1\n",
            "    ECG channel type: MLII 0\n"
          ]
        },
        {
          "output_type": "stream",
          "name": "stderr",
          "text": [
            "/usr/local/lib/python3.9/dist-packages/numpy/lib/function_base.py:5030: VisibleDeprecationWarning: Creating an ndarray from ragged nested sequences (which is a list-or-tuple of lists-or-tuples-or ndarrays with different lengths or shapes) is deprecated. If you meant to do this, you must specify 'dtype=object' when creating the ndarray.\n",
            "  arr = asarray(arr)\n",
            "<ipython-input-7-93a04bfb9321>:118: DeprecationWarning: `np.float` is a deprecated alias for the builtin `float`. To silence this warning, use `float` by itself. Doing this will not modify any behavior and is safe. If you specifically wanted the numpy scalar type, use `np.float64` here.\n",
            "Deprecated in NumPy 1.20; for more details and guidance: https://numpy.org/devdocs/release/1.20.0-notes.html#deprecations\n",
            "  savedata = np.array(list(beats[:]), dtype=np.float)\n"
          ]
        },
        {
          "output_type": "stream",
          "name": "stdout",
          "text": [
            "    ECG channel type: V1 1\n",
            "    ECG channel type: MLII 0\n"
          ]
        },
        {
          "output_type": "stream",
          "name": "stderr",
          "text": [
            "/usr/local/lib/python3.9/dist-packages/numpy/lib/function_base.py:5030: VisibleDeprecationWarning: Creating an ndarray from ragged nested sequences (which is a list-or-tuple of lists-or-tuples-or ndarrays with different lengths or shapes) is deprecated. If you meant to do this, you must specify 'dtype=object' when creating the ndarray.\n",
            "  arr = asarray(arr)\n",
            "<ipython-input-7-93a04bfb9321>:118: DeprecationWarning: `np.float` is a deprecated alias for the builtin `float`. To silence this warning, use `float` by itself. Doing this will not modify any behavior and is safe. If you specifically wanted the numpy scalar type, use `np.float64` here.\n",
            "Deprecated in NumPy 1.20; for more details and guidance: https://numpy.org/devdocs/release/1.20.0-notes.html#deprecations\n",
            "  savedata = np.array(list(beats[:]), dtype=np.float)\n"
          ]
        },
        {
          "output_type": "stream",
          "name": "stdout",
          "text": [
            "    ECG channel type: V1 1\n",
            "    ECG channel type: MLII 0\n"
          ]
        },
        {
          "output_type": "stream",
          "name": "stderr",
          "text": [
            "/usr/local/lib/python3.9/dist-packages/numpy/lib/function_base.py:5030: VisibleDeprecationWarning: Creating an ndarray from ragged nested sequences (which is a list-or-tuple of lists-or-tuples-or ndarrays with different lengths or shapes) is deprecated. If you meant to do this, you must specify 'dtype=object' when creating the ndarray.\n",
            "  arr = asarray(arr)\n",
            "<ipython-input-7-93a04bfb9321>:118: DeprecationWarning: `np.float` is a deprecated alias for the builtin `float`. To silence this warning, use `float` by itself. Doing this will not modify any behavior and is safe. If you specifically wanted the numpy scalar type, use `np.float64` here.\n",
            "Deprecated in NumPy 1.20; for more details and guidance: https://numpy.org/devdocs/release/1.20.0-notes.html#deprecations\n",
            "  savedata = np.array(list(beats[:]), dtype=np.float)\n"
          ]
        },
        {
          "output_type": "stream",
          "name": "stdout",
          "text": [
            "    ECG channel type: V1 1\n",
            "    ECG channel type: MLII 0\n"
          ]
        },
        {
          "output_type": "stream",
          "name": "stderr",
          "text": [
            "/usr/local/lib/python3.9/dist-packages/numpy/lib/function_base.py:5030: VisibleDeprecationWarning: Creating an ndarray from ragged nested sequences (which is a list-or-tuple of lists-or-tuples-or ndarrays with different lengths or shapes) is deprecated. If you meant to do this, you must specify 'dtype=object' when creating the ndarray.\n",
            "  arr = asarray(arr)\n",
            "<ipython-input-7-93a04bfb9321>:118: DeprecationWarning: `np.float` is a deprecated alias for the builtin `float`. To silence this warning, use `float` by itself. Doing this will not modify any behavior and is safe. If you specifically wanted the numpy scalar type, use `np.float64` here.\n",
            "Deprecated in NumPy 1.20; for more details and guidance: https://numpy.org/devdocs/release/1.20.0-notes.html#deprecations\n",
            "  savedata = np.array(list(beats[:]), dtype=np.float)\n"
          ]
        },
        {
          "output_type": "stream",
          "name": "stdout",
          "text": [
            "    ECG channel type: V1 1\n",
            "    ECG channel type: V5 0\n"
          ]
        },
        {
          "output_type": "stream",
          "name": "stderr",
          "text": [
            "/usr/local/lib/python3.9/dist-packages/numpy/lib/function_base.py:5030: VisibleDeprecationWarning: Creating an ndarray from ragged nested sequences (which is a list-or-tuple of lists-or-tuples-or ndarrays with different lengths or shapes) is deprecated. If you meant to do this, you must specify 'dtype=object' when creating the ndarray.\n",
            "  arr = asarray(arr)\n",
            "<ipython-input-7-93a04bfb9321>:118: DeprecationWarning: `np.float` is a deprecated alias for the builtin `float`. To silence this warning, use `float` by itself. Doing this will not modify any behavior and is safe. If you specifically wanted the numpy scalar type, use `np.float64` here.\n",
            "Deprecated in NumPy 1.20; for more details and guidance: https://numpy.org/devdocs/release/1.20.0-notes.html#deprecations\n",
            "  savedata = np.array(list(beats[:]), dtype=np.float)\n"
          ]
        },
        {
          "output_type": "stream",
          "name": "stdout",
          "text": [
            "    ECG channel type: MLII 1\n",
            "    ECG channel type: MLII 0\n"
          ]
        },
        {
          "output_type": "stream",
          "name": "stderr",
          "text": [
            "/usr/local/lib/python3.9/dist-packages/numpy/lib/function_base.py:5030: VisibleDeprecationWarning: Creating an ndarray from ragged nested sequences (which is a list-or-tuple of lists-or-tuples-or ndarrays with different lengths or shapes) is deprecated. If you meant to do this, you must specify 'dtype=object' when creating the ndarray.\n",
            "  arr = asarray(arr)\n",
            "<ipython-input-7-93a04bfb9321>:118: DeprecationWarning: `np.float` is a deprecated alias for the builtin `float`. To silence this warning, use `float` by itself. Doing this will not modify any behavior and is safe. If you specifically wanted the numpy scalar type, use `np.float64` here.\n",
            "Deprecated in NumPy 1.20; for more details and guidance: https://numpy.org/devdocs/release/1.20.0-notes.html#deprecations\n",
            "  savedata = np.array(list(beats[:]), dtype=np.float)\n"
          ]
        },
        {
          "output_type": "stream",
          "name": "stdout",
          "text": [
            "    ECG channel type: V1 1\n",
            "    ECG channel type: MLII 0\n"
          ]
        },
        {
          "output_type": "stream",
          "name": "stderr",
          "text": [
            "/usr/local/lib/python3.9/dist-packages/numpy/lib/function_base.py:5030: VisibleDeprecationWarning: Creating an ndarray from ragged nested sequences (which is a list-or-tuple of lists-or-tuples-or ndarrays with different lengths or shapes) is deprecated. If you meant to do this, you must specify 'dtype=object' when creating the ndarray.\n",
            "  arr = asarray(arr)\n",
            "<ipython-input-7-93a04bfb9321>:118: DeprecationWarning: `np.float` is a deprecated alias for the builtin `float`. To silence this warning, use `float` by itself. Doing this will not modify any behavior and is safe. If you specifically wanted the numpy scalar type, use `np.float64` here.\n",
            "Deprecated in NumPy 1.20; for more details and guidance: https://numpy.org/devdocs/release/1.20.0-notes.html#deprecations\n",
            "  savedata = np.array(list(beats[:]), dtype=np.float)\n"
          ]
        },
        {
          "output_type": "stream",
          "name": "stdout",
          "text": [
            "    ECG channel type: V1 1\n",
            "    ECG channel type: MLII 0\n"
          ]
        },
        {
          "output_type": "stream",
          "name": "stderr",
          "text": [
            "/usr/local/lib/python3.9/dist-packages/numpy/lib/function_base.py:5030: VisibleDeprecationWarning: Creating an ndarray from ragged nested sequences (which is a list-or-tuple of lists-or-tuples-or ndarrays with different lengths or shapes) is deprecated. If you meant to do this, you must specify 'dtype=object' when creating the ndarray.\n",
            "  arr = asarray(arr)\n",
            "<ipython-input-7-93a04bfb9321>:118: DeprecationWarning: `np.float` is a deprecated alias for the builtin `float`. To silence this warning, use `float` by itself. Doing this will not modify any behavior and is safe. If you specifically wanted the numpy scalar type, use `np.float64` here.\n",
            "Deprecated in NumPy 1.20; for more details and guidance: https://numpy.org/devdocs/release/1.20.0-notes.html#deprecations\n",
            "  savedata = np.array(list(beats[:]), dtype=np.float)\n"
          ]
        },
        {
          "output_type": "stream",
          "name": "stdout",
          "text": [
            "    ECG channel type: V2 1\n",
            "    ECG channel type: MLII 0\n"
          ]
        },
        {
          "output_type": "stream",
          "name": "stderr",
          "text": [
            "/usr/local/lib/python3.9/dist-packages/numpy/lib/function_base.py:5030: VisibleDeprecationWarning: Creating an ndarray from ragged nested sequences (which is a list-or-tuple of lists-or-tuples-or ndarrays with different lengths or shapes) is deprecated. If you meant to do this, you must specify 'dtype=object' when creating the ndarray.\n",
            "  arr = asarray(arr)\n",
            "<ipython-input-7-93a04bfb9321>:118: DeprecationWarning: `np.float` is a deprecated alias for the builtin `float`. To silence this warning, use `float` by itself. Doing this will not modify any behavior and is safe. If you specifically wanted the numpy scalar type, use `np.float64` here.\n",
            "Deprecated in NumPy 1.20; for more details and guidance: https://numpy.org/devdocs/release/1.20.0-notes.html#deprecations\n",
            "  savedata = np.array(list(beats[:]), dtype=np.float)\n"
          ]
        },
        {
          "output_type": "stream",
          "name": "stdout",
          "text": [
            "    ECG channel type: V1 1\n",
            "    ECG channel type: MLII 0\n"
          ]
        },
        {
          "output_type": "stream",
          "name": "stderr",
          "text": [
            "/usr/local/lib/python3.9/dist-packages/numpy/lib/function_base.py:5030: VisibleDeprecationWarning: Creating an ndarray from ragged nested sequences (which is a list-or-tuple of lists-or-tuples-or ndarrays with different lengths or shapes) is deprecated. If you meant to do this, you must specify 'dtype=object' when creating the ndarray.\n",
            "  arr = asarray(arr)\n",
            "<ipython-input-7-93a04bfb9321>:118: DeprecationWarning: `np.float` is a deprecated alias for the builtin `float`. To silence this warning, use `float` by itself. Doing this will not modify any behavior and is safe. If you specifically wanted the numpy scalar type, use `np.float64` here.\n",
            "Deprecated in NumPy 1.20; for more details and guidance: https://numpy.org/devdocs/release/1.20.0-notes.html#deprecations\n",
            "  savedata = np.array(list(beats[:]), dtype=np.float)\n"
          ]
        },
        {
          "output_type": "stream",
          "name": "stdout",
          "text": [
            "    ECG channel type: V1 1\n",
            "    ECG channel type: MLII 0\n"
          ]
        },
        {
          "output_type": "stream",
          "name": "stderr",
          "text": [
            "/usr/local/lib/python3.9/dist-packages/numpy/lib/function_base.py:5030: VisibleDeprecationWarning: Creating an ndarray from ragged nested sequences (which is a list-or-tuple of lists-or-tuples-or ndarrays with different lengths or shapes) is deprecated. If you meant to do this, you must specify 'dtype=object' when creating the ndarray.\n",
            "  arr = asarray(arr)\n",
            "<ipython-input-7-93a04bfb9321>:118: DeprecationWarning: `np.float` is a deprecated alias for the builtin `float`. To silence this warning, use `float` by itself. Doing this will not modify any behavior and is safe. If you specifically wanted the numpy scalar type, use `np.float64` here.\n",
            "Deprecated in NumPy 1.20; for more details and guidance: https://numpy.org/devdocs/release/1.20.0-notes.html#deprecations\n",
            "  savedata = np.array(list(beats[:]), dtype=np.float)\n"
          ]
        },
        {
          "output_type": "stream",
          "name": "stdout",
          "text": [
            "    ECG channel type: V5 1\n",
            "    ECG channel type: MLII 0\n"
          ]
        },
        {
          "output_type": "stream",
          "name": "stderr",
          "text": [
            "/usr/local/lib/python3.9/dist-packages/numpy/lib/function_base.py:5030: VisibleDeprecationWarning: Creating an ndarray from ragged nested sequences (which is a list-or-tuple of lists-or-tuples-or ndarrays with different lengths or shapes) is deprecated. If you meant to do this, you must specify 'dtype=object' when creating the ndarray.\n",
            "  arr = asarray(arr)\n",
            "<ipython-input-7-93a04bfb9321>:118: DeprecationWarning: `np.float` is a deprecated alias for the builtin `float`. To silence this warning, use `float` by itself. Doing this will not modify any behavior and is safe. If you specifically wanted the numpy scalar type, use `np.float64` here.\n",
            "Deprecated in NumPy 1.20; for more details and guidance: https://numpy.org/devdocs/release/1.20.0-notes.html#deprecations\n",
            "  savedata = np.array(list(beats[:]), dtype=np.float)\n"
          ]
        },
        {
          "output_type": "stream",
          "name": "stdout",
          "text": [
            "    ECG channel type: V1 1\n",
            "    ECG channel type: MLII 0\n"
          ]
        },
        {
          "output_type": "stream",
          "name": "stderr",
          "text": [
            "/usr/local/lib/python3.9/dist-packages/numpy/lib/function_base.py:5030: VisibleDeprecationWarning: Creating an ndarray from ragged nested sequences (which is a list-or-tuple of lists-or-tuples-or ndarrays with different lengths or shapes) is deprecated. If you meant to do this, you must specify 'dtype=object' when creating the ndarray.\n",
            "  arr = asarray(arr)\n",
            "<ipython-input-7-93a04bfb9321>:118: DeprecationWarning: `np.float` is a deprecated alias for the builtin `float`. To silence this warning, use `float` by itself. Doing this will not modify any behavior and is safe. If you specifically wanted the numpy scalar type, use `np.float64` here.\n",
            "Deprecated in NumPy 1.20; for more details and guidance: https://numpy.org/devdocs/release/1.20.0-notes.html#deprecations\n",
            "  savedata = np.array(list(beats[:]), dtype=np.float)\n"
          ]
        },
        {
          "output_type": "stream",
          "name": "stdout",
          "text": [
            "    ECG channel type: V4 1\n",
            "    ECG channel type: MLII 0\n"
          ]
        },
        {
          "output_type": "stream",
          "name": "stderr",
          "text": [
            "/usr/local/lib/python3.9/dist-packages/numpy/lib/function_base.py:5030: VisibleDeprecationWarning: Creating an ndarray from ragged nested sequences (which is a list-or-tuple of lists-or-tuples-or ndarrays with different lengths or shapes) is deprecated. If you meant to do this, you must specify 'dtype=object' when creating the ndarray.\n",
            "  arr = asarray(arr)\n",
            "<ipython-input-7-93a04bfb9321>:118: DeprecationWarning: `np.float` is a deprecated alias for the builtin `float`. To silence this warning, use `float` by itself. Doing this will not modify any behavior and is safe. If you specifically wanted the numpy scalar type, use `np.float64` here.\n",
            "Deprecated in NumPy 1.20; for more details and guidance: https://numpy.org/devdocs/release/1.20.0-notes.html#deprecations\n",
            "  savedata = np.array(list(beats[:]), dtype=np.float)\n"
          ]
        },
        {
          "output_type": "stream",
          "name": "stdout",
          "text": [
            "    ECG channel type: V1 1\n",
            "    ECG channel type: MLII 0\n"
          ]
        },
        {
          "output_type": "stream",
          "name": "stderr",
          "text": [
            "/usr/local/lib/python3.9/dist-packages/numpy/lib/function_base.py:5030: VisibleDeprecationWarning: Creating an ndarray from ragged nested sequences (which is a list-or-tuple of lists-or-tuples-or ndarrays with different lengths or shapes) is deprecated. If you meant to do this, you must specify 'dtype=object' when creating the ndarray.\n",
            "  arr = asarray(arr)\n",
            "<ipython-input-7-93a04bfb9321>:118: DeprecationWarning: `np.float` is a deprecated alias for the builtin `float`. To silence this warning, use `float` by itself. Doing this will not modify any behavior and is safe. If you specifically wanted the numpy scalar type, use `np.float64` here.\n",
            "Deprecated in NumPy 1.20; for more details and guidance: https://numpy.org/devdocs/release/1.20.0-notes.html#deprecations\n",
            "  savedata = np.array(list(beats[:]), dtype=np.float)\n"
          ]
        },
        {
          "output_type": "stream",
          "name": "stdout",
          "text": [
            "    ECG channel type: V1 1\n",
            "    ECG channel type: MLII 0\n"
          ]
        },
        {
          "output_type": "stream",
          "name": "stderr",
          "text": [
            "/usr/local/lib/python3.9/dist-packages/numpy/lib/function_base.py:5030: VisibleDeprecationWarning: Creating an ndarray from ragged nested sequences (which is a list-or-tuple of lists-or-tuples-or ndarrays with different lengths or shapes) is deprecated. If you meant to do this, you must specify 'dtype=object' when creating the ndarray.\n",
            "  arr = asarray(arr)\n",
            "<ipython-input-7-93a04bfb9321>:118: DeprecationWarning: `np.float` is a deprecated alias for the builtin `float`. To silence this warning, use `float` by itself. Doing this will not modify any behavior and is safe. If you specifically wanted the numpy scalar type, use `np.float64` here.\n",
            "Deprecated in NumPy 1.20; for more details and guidance: https://numpy.org/devdocs/release/1.20.0-notes.html#deprecations\n",
            "  savedata = np.array(list(beats[:]), dtype=np.float)\n"
          ]
        },
        {
          "output_type": "stream",
          "name": "stdout",
          "text": [
            "    ECG channel type: V1 1\n",
            "    ECG channel type: MLII 0\n"
          ]
        },
        {
          "output_type": "stream",
          "name": "stderr",
          "text": [
            "/usr/local/lib/python3.9/dist-packages/numpy/lib/function_base.py:5030: VisibleDeprecationWarning: Creating an ndarray from ragged nested sequences (which is a list-or-tuple of lists-or-tuples-or ndarrays with different lengths or shapes) is deprecated. If you meant to do this, you must specify 'dtype=object' when creating the ndarray.\n",
            "  arr = asarray(arr)\n",
            "<ipython-input-7-93a04bfb9321>:118: DeprecationWarning: `np.float` is a deprecated alias for the builtin `float`. To silence this warning, use `float` by itself. Doing this will not modify any behavior and is safe. If you specifically wanted the numpy scalar type, use `np.float64` here.\n",
            "Deprecated in NumPy 1.20; for more details and guidance: https://numpy.org/devdocs/release/1.20.0-notes.html#deprecations\n",
            "  savedata = np.array(list(beats[:]), dtype=np.float)\n"
          ]
        },
        {
          "output_type": "stream",
          "name": "stdout",
          "text": [
            "    ECG channel type: V1 1\n",
            "    ECG channel type: MLII 0\n"
          ]
        },
        {
          "output_type": "stream",
          "name": "stderr",
          "text": [
            "/usr/local/lib/python3.9/dist-packages/numpy/lib/function_base.py:5030: VisibleDeprecationWarning: Creating an ndarray from ragged nested sequences (which is a list-or-tuple of lists-or-tuples-or ndarrays with different lengths or shapes) is deprecated. If you meant to do this, you must specify 'dtype=object' when creating the ndarray.\n",
            "  arr = asarray(arr)\n",
            "<ipython-input-7-93a04bfb9321>:118: DeprecationWarning: `np.float` is a deprecated alias for the builtin `float`. To silence this warning, use `float` by itself. Doing this will not modify any behavior and is safe. If you specifically wanted the numpy scalar type, use `np.float64` here.\n",
            "Deprecated in NumPy 1.20; for more details and guidance: https://numpy.org/devdocs/release/1.20.0-notes.html#deprecations\n",
            "  savedata = np.array(list(beats[:]), dtype=np.float)\n"
          ]
        },
        {
          "output_type": "stream",
          "name": "stdout",
          "text": [
            "    ECG channel type: V1 1\n",
            "    ECG channel type: MLII 0\n"
          ]
        },
        {
          "output_type": "stream",
          "name": "stderr",
          "text": [
            "/usr/local/lib/python3.9/dist-packages/numpy/lib/function_base.py:5030: VisibleDeprecationWarning: Creating an ndarray from ragged nested sequences (which is a list-or-tuple of lists-or-tuples-or ndarrays with different lengths or shapes) is deprecated. If you meant to do this, you must specify 'dtype=object' when creating the ndarray.\n",
            "  arr = asarray(arr)\n",
            "<ipython-input-7-93a04bfb9321>:118: DeprecationWarning: `np.float` is a deprecated alias for the builtin `float`. To silence this warning, use `float` by itself. Doing this will not modify any behavior and is safe. If you specifically wanted the numpy scalar type, use `np.float64` here.\n",
            "Deprecated in NumPy 1.20; for more details and guidance: https://numpy.org/devdocs/release/1.20.0-notes.html#deprecations\n",
            "  savedata = np.array(list(beats[:]), dtype=np.float)\n"
          ]
        },
        {
          "output_type": "stream",
          "name": "stdout",
          "text": [
            "    ECG channel type: V1 1\n",
            "    ECG channel type: MLII 0\n"
          ]
        },
        {
          "output_type": "stream",
          "name": "stderr",
          "text": [
            "/usr/local/lib/python3.9/dist-packages/numpy/lib/function_base.py:5030: VisibleDeprecationWarning: Creating an ndarray from ragged nested sequences (which is a list-or-tuple of lists-or-tuples-or ndarrays with different lengths or shapes) is deprecated. If you meant to do this, you must specify 'dtype=object' when creating the ndarray.\n",
            "  arr = asarray(arr)\n",
            "<ipython-input-7-93a04bfb9321>:118: DeprecationWarning: `np.float` is a deprecated alias for the builtin `float`. To silence this warning, use `float` by itself. Doing this will not modify any behavior and is safe. If you specifically wanted the numpy scalar type, use `np.float64` here.\n",
            "Deprecated in NumPy 1.20; for more details and guidance: https://numpy.org/devdocs/release/1.20.0-notes.html#deprecations\n",
            "  savedata = np.array(list(beats[:]), dtype=np.float)\n"
          ]
        },
        {
          "output_type": "stream",
          "name": "stdout",
          "text": [
            "    ECG channel type: V1 1\n",
            "    ECG channel type: MLII 0\n"
          ]
        },
        {
          "output_type": "stream",
          "name": "stderr",
          "text": [
            "/usr/local/lib/python3.9/dist-packages/numpy/lib/function_base.py:5030: VisibleDeprecationWarning: Creating an ndarray from ragged nested sequences (which is a list-or-tuple of lists-or-tuples-or ndarrays with different lengths or shapes) is deprecated. If you meant to do this, you must specify 'dtype=object' when creating the ndarray.\n",
            "  arr = asarray(arr)\n",
            "<ipython-input-7-93a04bfb9321>:118: DeprecationWarning: `np.float` is a deprecated alias for the builtin `float`. To silence this warning, use `float` by itself. Doing this will not modify any behavior and is safe. If you specifically wanted the numpy scalar type, use `np.float64` here.\n",
            "Deprecated in NumPy 1.20; for more details and guidance: https://numpy.org/devdocs/release/1.20.0-notes.html#deprecations\n",
            "  savedata = np.array(list(beats[:]), dtype=np.float)\n"
          ]
        },
        {
          "output_type": "stream",
          "name": "stdout",
          "text": [
            "    ECG channel type: V1 1\n",
            "    ECG channel type: MLII 0\n"
          ]
        },
        {
          "output_type": "stream",
          "name": "stderr",
          "text": [
            "/usr/local/lib/python3.9/dist-packages/numpy/lib/function_base.py:5030: VisibleDeprecationWarning: Creating an ndarray from ragged nested sequences (which is a list-or-tuple of lists-or-tuples-or ndarrays with different lengths or shapes) is deprecated. If you meant to do this, you must specify 'dtype=object' when creating the ndarray.\n",
            "  arr = asarray(arr)\n",
            "<ipython-input-7-93a04bfb9321>:118: DeprecationWarning: `np.float` is a deprecated alias for the builtin `float`. To silence this warning, use `float` by itself. Doing this will not modify any behavior and is safe. If you specifically wanted the numpy scalar type, use `np.float64` here.\n",
            "Deprecated in NumPy 1.20; for more details and guidance: https://numpy.org/devdocs/release/1.20.0-notes.html#deprecations\n",
            "  savedata = np.array(list(beats[:]), dtype=np.float)\n"
          ]
        },
        {
          "output_type": "stream",
          "name": "stdout",
          "text": [
            "    ECG channel type: V1 1\n",
            "    ECG channel type: MLII 0\n"
          ]
        },
        {
          "output_type": "stream",
          "name": "stderr",
          "text": [
            "/usr/local/lib/python3.9/dist-packages/numpy/lib/function_base.py:5030: VisibleDeprecationWarning: Creating an ndarray from ragged nested sequences (which is a list-or-tuple of lists-or-tuples-or ndarrays with different lengths or shapes) is deprecated. If you meant to do this, you must specify 'dtype=object' when creating the ndarray.\n",
            "  arr = asarray(arr)\n",
            "<ipython-input-7-93a04bfb9321>:118: DeprecationWarning: `np.float` is a deprecated alias for the builtin `float`. To silence this warning, use `float` by itself. Doing this will not modify any behavior and is safe. If you specifically wanted the numpy scalar type, use `np.float64` here.\n",
            "Deprecated in NumPy 1.20; for more details and guidance: https://numpy.org/devdocs/release/1.20.0-notes.html#deprecations\n",
            "  savedata = np.array(list(beats[:]), dtype=np.float)\n"
          ]
        },
        {
          "output_type": "stream",
          "name": "stdout",
          "text": [
            "    ECG channel type: V1 1\n",
            "    ECG channel type: MLII 0\n"
          ]
        },
        {
          "output_type": "stream",
          "name": "stderr",
          "text": [
            "/usr/local/lib/python3.9/dist-packages/numpy/lib/function_base.py:5030: VisibleDeprecationWarning: Creating an ndarray from ragged nested sequences (which is a list-or-tuple of lists-or-tuples-or ndarrays with different lengths or shapes) is deprecated. If you meant to do this, you must specify 'dtype=object' when creating the ndarray.\n",
            "  arr = asarray(arr)\n",
            "<ipython-input-7-93a04bfb9321>:118: DeprecationWarning: `np.float` is a deprecated alias for the builtin `float`. To silence this warning, use `float` by itself. Doing this will not modify any behavior and is safe. If you specifically wanted the numpy scalar type, use `np.float64` here.\n",
            "Deprecated in NumPy 1.20; for more details and guidance: https://numpy.org/devdocs/release/1.20.0-notes.html#deprecations\n",
            "  savedata = np.array(list(beats[:]), dtype=np.float)\n"
          ]
        },
        {
          "output_type": "stream",
          "name": "stdout",
          "text": [
            "    ECG channel type: V1 1\n",
            "    ECG channel type: MLII 0\n"
          ]
        },
        {
          "output_type": "stream",
          "name": "stderr",
          "text": [
            "/usr/local/lib/python3.9/dist-packages/numpy/lib/function_base.py:5030: VisibleDeprecationWarning: Creating an ndarray from ragged nested sequences (which is a list-or-tuple of lists-or-tuples-or ndarrays with different lengths or shapes) is deprecated. If you meant to do this, you must specify 'dtype=object' when creating the ndarray.\n",
            "  arr = asarray(arr)\n",
            "<ipython-input-7-93a04bfb9321>:118: DeprecationWarning: `np.float` is a deprecated alias for the builtin `float`. To silence this warning, use `float` by itself. Doing this will not modify any behavior and is safe. If you specifically wanted the numpy scalar type, use `np.float64` here.\n",
            "Deprecated in NumPy 1.20; for more details and guidance: https://numpy.org/devdocs/release/1.20.0-notes.html#deprecations\n",
            "  savedata = np.array(list(beats[:]), dtype=np.float)\n"
          ]
        },
        {
          "output_type": "stream",
          "name": "stdout",
          "text": [
            "    ECG channel type: V1 1\n",
            "    ECG channel type: MLII 0\n"
          ]
        },
        {
          "output_type": "stream",
          "name": "stderr",
          "text": [
            "/usr/local/lib/python3.9/dist-packages/numpy/lib/function_base.py:5030: VisibleDeprecationWarning: Creating an ndarray from ragged nested sequences (which is a list-or-tuple of lists-or-tuples-or ndarrays with different lengths or shapes) is deprecated. If you meant to do this, you must specify 'dtype=object' when creating the ndarray.\n",
            "  arr = asarray(arr)\n",
            "<ipython-input-7-93a04bfb9321>:118: DeprecationWarning: `np.float` is a deprecated alias for the builtin `float`. To silence this warning, use `float` by itself. Doing this will not modify any behavior and is safe. If you specifically wanted the numpy scalar type, use `np.float64` here.\n",
            "Deprecated in NumPy 1.20; for more details and guidance: https://numpy.org/devdocs/release/1.20.0-notes.html#deprecations\n",
            "  savedata = np.array(list(beats[:]), dtype=np.float)\n"
          ]
        },
        {
          "output_type": "stream",
          "name": "stdout",
          "text": [
            "    ECG channel type: V1 1\n",
            "    ECG channel type: MLII 0\n"
          ]
        },
        {
          "output_type": "stream",
          "name": "stderr",
          "text": [
            "/usr/local/lib/python3.9/dist-packages/numpy/lib/function_base.py:5030: VisibleDeprecationWarning: Creating an ndarray from ragged nested sequences (which is a list-or-tuple of lists-or-tuples-or ndarrays with different lengths or shapes) is deprecated. If you meant to do this, you must specify 'dtype=object' when creating the ndarray.\n",
            "  arr = asarray(arr)\n",
            "<ipython-input-7-93a04bfb9321>:118: DeprecationWarning: `np.float` is a deprecated alias for the builtin `float`. To silence this warning, use `float` by itself. Doing this will not modify any behavior and is safe. If you specifically wanted the numpy scalar type, use `np.float64` here.\n",
            "Deprecated in NumPy 1.20; for more details and guidance: https://numpy.org/devdocs/release/1.20.0-notes.html#deprecations\n",
            "  savedata = np.array(list(beats[:]), dtype=np.float)\n"
          ]
        },
        {
          "output_type": "stream",
          "name": "stdout",
          "text": [
            "    ECG channel type: V1 1\n",
            "    ECG channel type: MLII 0\n"
          ]
        },
        {
          "output_type": "stream",
          "name": "stderr",
          "text": [
            "/usr/local/lib/python3.9/dist-packages/numpy/lib/function_base.py:5030: VisibleDeprecationWarning: Creating an ndarray from ragged nested sequences (which is a list-or-tuple of lists-or-tuples-or ndarrays with different lengths or shapes) is deprecated. If you meant to do this, you must specify 'dtype=object' when creating the ndarray.\n",
            "  arr = asarray(arr)\n",
            "<ipython-input-7-93a04bfb9321>:118: DeprecationWarning: `np.float` is a deprecated alias for the builtin `float`. To silence this warning, use `float` by itself. Doing this will not modify any behavior and is safe. If you specifically wanted the numpy scalar type, use `np.float64` here.\n",
            "Deprecated in NumPy 1.20; for more details and guidance: https://numpy.org/devdocs/release/1.20.0-notes.html#deprecations\n",
            "  savedata = np.array(list(beats[:]), dtype=np.float)\n"
          ]
        },
        {
          "output_type": "stream",
          "name": "stdout",
          "text": [
            "    ECG channel type: V1 1\n",
            "    ECG channel type: MLII 0\n"
          ]
        },
        {
          "output_type": "stream",
          "name": "stderr",
          "text": [
            "/usr/local/lib/python3.9/dist-packages/numpy/lib/function_base.py:5030: VisibleDeprecationWarning: Creating an ndarray from ragged nested sequences (which is a list-or-tuple of lists-or-tuples-or ndarrays with different lengths or shapes) is deprecated. If you meant to do this, you must specify 'dtype=object' when creating the ndarray.\n",
            "  arr = asarray(arr)\n",
            "<ipython-input-7-93a04bfb9321>:118: DeprecationWarning: `np.float` is a deprecated alias for the builtin `float`. To silence this warning, use `float` by itself. Doing this will not modify any behavior and is safe. If you specifically wanted the numpy scalar type, use `np.float64` here.\n",
            "Deprecated in NumPy 1.20; for more details and guidance: https://numpy.org/devdocs/release/1.20.0-notes.html#deprecations\n",
            "  savedata = np.array(list(beats[:]), dtype=np.float)\n"
          ]
        },
        {
          "output_type": "stream",
          "name": "stdout",
          "text": [
            "    ECG channel type: V1 1\n",
            "    ECG channel type: MLII 0\n"
          ]
        },
        {
          "output_type": "stream",
          "name": "stderr",
          "text": [
            "/usr/local/lib/python3.9/dist-packages/numpy/lib/function_base.py:5030: VisibleDeprecationWarning: Creating an ndarray from ragged nested sequences (which is a list-or-tuple of lists-or-tuples-or ndarrays with different lengths or shapes) is deprecated. If you meant to do this, you must specify 'dtype=object' when creating the ndarray.\n",
            "  arr = asarray(arr)\n",
            "<ipython-input-7-93a04bfb9321>:118: DeprecationWarning: `np.float` is a deprecated alias for the builtin `float`. To silence this warning, use `float` by itself. Doing this will not modify any behavior and is safe. If you specifically wanted the numpy scalar type, use `np.float64` here.\n",
            "Deprecated in NumPy 1.20; for more details and guidance: https://numpy.org/devdocs/release/1.20.0-notes.html#deprecations\n",
            "  savedata = np.array(list(beats[:]), dtype=np.float)\n"
          ]
        },
        {
          "output_type": "stream",
          "name": "stdout",
          "text": [
            "    ECG channel type: V1 1\n",
            "    ECG channel type: MLII 0\n"
          ]
        },
        {
          "output_type": "stream",
          "name": "stderr",
          "text": [
            "/usr/local/lib/python3.9/dist-packages/numpy/lib/function_base.py:5030: VisibleDeprecationWarning: Creating an ndarray from ragged nested sequences (which is a list-or-tuple of lists-or-tuples-or ndarrays with different lengths or shapes) is deprecated. If you meant to do this, you must specify 'dtype=object' when creating the ndarray.\n",
            "  arr = asarray(arr)\n",
            "<ipython-input-7-93a04bfb9321>:118: DeprecationWarning: `np.float` is a deprecated alias for the builtin `float`. To silence this warning, use `float` by itself. Doing this will not modify any behavior and is safe. If you specifically wanted the numpy scalar type, use `np.float64` here.\n",
            "Deprecated in NumPy 1.20; for more details and guidance: https://numpy.org/devdocs/release/1.20.0-notes.html#deprecations\n",
            "  savedata = np.array(list(beats[:]), dtype=np.float)\n"
          ]
        },
        {
          "output_type": "stream",
          "name": "stdout",
          "text": [
            "    ECG channel type: V1 1\n",
            "    ECG channel type: MLII 0\n"
          ]
        },
        {
          "output_type": "stream",
          "name": "stderr",
          "text": [
            "/usr/local/lib/python3.9/dist-packages/numpy/lib/function_base.py:5030: VisibleDeprecationWarning: Creating an ndarray from ragged nested sequences (which is a list-or-tuple of lists-or-tuples-or ndarrays with different lengths or shapes) is deprecated. If you meant to do this, you must specify 'dtype=object' when creating the ndarray.\n",
            "  arr = asarray(arr)\n",
            "<ipython-input-7-93a04bfb9321>:118: DeprecationWarning: `np.float` is a deprecated alias for the builtin `float`. To silence this warning, use `float` by itself. Doing this will not modify any behavior and is safe. If you specifically wanted the numpy scalar type, use `np.float64` here.\n",
            "Deprecated in NumPy 1.20; for more details and guidance: https://numpy.org/devdocs/release/1.20.0-notes.html#deprecations\n",
            "  savedata = np.array(list(beats[:]), dtype=np.float)\n"
          ]
        },
        {
          "output_type": "stream",
          "name": "stdout",
          "text": [
            "    ECG channel type: V1 1\n",
            "    ECG channel type: MLII 0\n"
          ]
        },
        {
          "output_type": "stream",
          "name": "stderr",
          "text": [
            "/usr/local/lib/python3.9/dist-packages/numpy/lib/function_base.py:5030: VisibleDeprecationWarning: Creating an ndarray from ragged nested sequences (which is a list-or-tuple of lists-or-tuples-or ndarrays with different lengths or shapes) is deprecated. If you meant to do this, you must specify 'dtype=object' when creating the ndarray.\n",
            "  arr = asarray(arr)\n",
            "<ipython-input-7-93a04bfb9321>:118: DeprecationWarning: `np.float` is a deprecated alias for the builtin `float`. To silence this warning, use `float` by itself. Doing this will not modify any behavior and is safe. If you specifically wanted the numpy scalar type, use `np.float64` here.\n",
            "Deprecated in NumPy 1.20; for more details and guidance: https://numpy.org/devdocs/release/1.20.0-notes.html#deprecations\n",
            "  savedata = np.array(list(beats[:]), dtype=np.float)\n"
          ]
        },
        {
          "output_type": "stream",
          "name": "stdout",
          "text": [
            "    ECG channel type: V1 1\n",
            "    ECG channel type: MLII 0\n"
          ]
        },
        {
          "output_type": "stream",
          "name": "stderr",
          "text": [
            "/usr/local/lib/python3.9/dist-packages/numpy/lib/function_base.py:5030: VisibleDeprecationWarning: Creating an ndarray from ragged nested sequences (which is a list-or-tuple of lists-or-tuples-or ndarrays with different lengths or shapes) is deprecated. If you meant to do this, you must specify 'dtype=object' when creating the ndarray.\n",
            "  arr = asarray(arr)\n",
            "<ipython-input-7-93a04bfb9321>:118: DeprecationWarning: `np.float` is a deprecated alias for the builtin `float`. To silence this warning, use `float` by itself. Doing this will not modify any behavior and is safe. If you specifically wanted the numpy scalar type, use `np.float64` here.\n",
            "Deprecated in NumPy 1.20; for more details and guidance: https://numpy.org/devdocs/release/1.20.0-notes.html#deprecations\n",
            "  savedata = np.array(list(beats[:]), dtype=np.float)\n"
          ]
        },
        {
          "output_type": "stream",
          "name": "stdout",
          "text": [
            "    ECG channel type: V1 1\n",
            "    ECG channel type: MLII 0\n"
          ]
        },
        {
          "output_type": "stream",
          "name": "stderr",
          "text": [
            "/usr/local/lib/python3.9/dist-packages/numpy/lib/function_base.py:5030: VisibleDeprecationWarning: Creating an ndarray from ragged nested sequences (which is a list-or-tuple of lists-or-tuples-or ndarrays with different lengths or shapes) is deprecated. If you meant to do this, you must specify 'dtype=object' when creating the ndarray.\n",
            "  arr = asarray(arr)\n",
            "<ipython-input-7-93a04bfb9321>:118: DeprecationWarning: `np.float` is a deprecated alias for the builtin `float`. To silence this warning, use `float` by itself. Doing this will not modify any behavior and is safe. If you specifically wanted the numpy scalar type, use `np.float64` here.\n",
            "Deprecated in NumPy 1.20; for more details and guidance: https://numpy.org/devdocs/release/1.20.0-notes.html#deprecations\n",
            "  savedata = np.array(list(beats[:]), dtype=np.float)\n"
          ]
        },
        {
          "output_type": "stream",
          "name": "stdout",
          "text": [
            "    ECG channel type: V1 1\n",
            "    ECG channel type: MLII 0\n"
          ]
        },
        {
          "output_type": "stream",
          "name": "stderr",
          "text": [
            "/usr/local/lib/python3.9/dist-packages/numpy/lib/function_base.py:5030: VisibleDeprecationWarning: Creating an ndarray from ragged nested sequences (which is a list-or-tuple of lists-or-tuples-or ndarrays with different lengths or shapes) is deprecated. If you meant to do this, you must specify 'dtype=object' when creating the ndarray.\n",
            "  arr = asarray(arr)\n",
            "<ipython-input-7-93a04bfb9321>:118: DeprecationWarning: `np.float` is a deprecated alias for the builtin `float`. To silence this warning, use `float` by itself. Doing this will not modify any behavior and is safe. If you specifically wanted the numpy scalar type, use `np.float64` here.\n",
            "Deprecated in NumPy 1.20; for more details and guidance: https://numpy.org/devdocs/release/1.20.0-notes.html#deprecations\n",
            "  savedata = np.array(list(beats[:]), dtype=np.float)\n"
          ]
        },
        {
          "output_type": "stream",
          "name": "stdout",
          "text": [
            "    ECG channel type: V1 1\n",
            "    ECG channel type: MLII 0\n"
          ]
        },
        {
          "output_type": "stream",
          "name": "stderr",
          "text": [
            "/usr/local/lib/python3.9/dist-packages/numpy/lib/function_base.py:5030: VisibleDeprecationWarning: Creating an ndarray from ragged nested sequences (which is a list-or-tuple of lists-or-tuples-or ndarrays with different lengths or shapes) is deprecated. If you meant to do this, you must specify 'dtype=object' when creating the ndarray.\n",
            "  arr = asarray(arr)\n",
            "<ipython-input-7-93a04bfb9321>:118: DeprecationWarning: `np.float` is a deprecated alias for the builtin `float`. To silence this warning, use `float` by itself. Doing this will not modify any behavior and is safe. If you specifically wanted the numpy scalar type, use `np.float64` here.\n",
            "Deprecated in NumPy 1.20; for more details and guidance: https://numpy.org/devdocs/release/1.20.0-notes.html#deprecations\n",
            "  savedata = np.array(list(beats[:]), dtype=np.float)\n"
          ]
        },
        {
          "output_type": "stream",
          "name": "stdout",
          "text": [
            "    ECG channel type: V1 1\n",
            "    ECG channel type: MLII 0\n"
          ]
        },
        {
          "output_type": "stream",
          "name": "stderr",
          "text": [
            "/usr/local/lib/python3.9/dist-packages/numpy/lib/function_base.py:5030: VisibleDeprecationWarning: Creating an ndarray from ragged nested sequences (which is a list-or-tuple of lists-or-tuples-or ndarrays with different lengths or shapes) is deprecated. If you meant to do this, you must specify 'dtype=object' when creating the ndarray.\n",
            "  arr = asarray(arr)\n",
            "<ipython-input-7-93a04bfb9321>:118: DeprecationWarning: `np.float` is a deprecated alias for the builtin `float`. To silence this warning, use `float` by itself. Doing this will not modify any behavior and is safe. If you specifically wanted the numpy scalar type, use `np.float64` here.\n",
            "Deprecated in NumPy 1.20; for more details and guidance: https://numpy.org/devdocs/release/1.20.0-notes.html#deprecations\n",
            "  savedata = np.array(list(beats[:]), dtype=np.float)\n"
          ]
        },
        {
          "output_type": "stream",
          "name": "stdout",
          "text": [
            "    ECG channel type: V1 1\n"
          ]
        }
      ],
      "source": [
        "\n",
        "# Specify the record directory and load all records\n",
        "record_dir = os.getcwd()\n",
        "records = []\n",
        "realbeats = ['N','L','R','B','A','a','J','S','V','r',\n",
        "             'F','e','j','n','E','/','f','Q','?']\n",
        "answer=np.zeros((1,188))\n",
        "for record_name in os.listdir(record_dir):\n",
        "    if record_name.endswith('.dat'):\n",
        "        record_path = os.path.join(record_dir, record_name[:-4])\n",
        "        record = wfdb.rdrecord(record_path)\n",
        "        pathpts = record_name.split('/')\n",
        "        fn = pathpts[-1]\n",
        "\n",
        "        # Get the sampling frequency and data shape\n",
        "        fs = record.fs\n",
        "        data_shape = record.p_signal.shape\n",
        "\n",
        "        # Get the annotations\n",
        "        ann_path = os.path.join(record_dir, record_name[:-4] + '.atr')\n",
        "        ann = wfdb.rdann(record_path, 'atr')\n",
        "\n",
        "        # Append the record and its information to the list\n",
        "        record_info = {'record': record, 'fs': fs, 'data_shape': data_shape, 'ann': ann}\n",
        "        records.append(record_info)\n",
        "\n",
        "        # Get the ECG values from the file.\n",
        "        data = record.p_signal.transpose()\n",
        "\n",
        "        # Generate the classifications based on the annotations.\n",
        "        # 0.0 = undetermined\n",
        "        # 1.0 = normal\n",
        "        cat = np.array(ann.symbol)\n",
        "        rate = np.zeros_like(cat, dtype='float')\n",
        "        for catid, catval in enumerate(cat):\n",
        "            if (catval == 'N'):\n",
        "                rate[catid] = 1.0 # Normal\n",
        "            elif (catval == 'S'):\n",
        "                rate[catid] = 2.0 #Supraventricular premature beat\n",
        "            elif (catval == 'V'):\n",
        "                rate[catid] = 3.0 # Premature ventricular contraction\n",
        "            elif (catval == 'F'):\n",
        "                rate[catid] = 4.0 #Fusion of ventricular and normal beat\n",
        "            elif (catval in realbeats):\n",
        "                rate[catid] = 5.0 # Unclassifiable beat\n",
        "        rates = np.zeros_like(data[0], dtype='float')\n",
        "        rates[ann.sample] = rate\n",
        "        indices = np.arange(data[0].size, dtype='int')\n",
        "\n",
        "        # Process each channel separately (2 per input file).\n",
        "        for channelid, channel in enumerate(record.sig_name):\n",
        "            print('    ECG channel type:', channel,channelid)\n",
        "            \n",
        "            # Get the ECG values for the current channel.\n",
        "            ecg_values = record.p_signal[:, channelid]\n",
        "\n",
        "            # Find rpeaks in the ECG data. Most should match with\n",
        "            # the annotations.\n",
        "            out = ecg.ecg(signal=ecg_values, sampling_rate=360, show=False)\n",
        "            rpeaks = np.zeros_like(ecg_values, dtype='float')\n",
        "            rpeaks[out['rpeaks']] = 1.0\n",
        "            \n",
        "            beatstoremove = np.array([0])\n",
        "\n",
        "            # Split into individual heartbeats. For each heartbeat\n",
        "            # record, append classification (normal/'S'/'V'/'F'/'Q').\n",
        "            beats = np.split(ecg_values, out['rpeaks'])\n",
        "            for idx, idxval in enumerate(out['rpeaks']):\n",
        "                firstround = idx == 0\n",
        "                lastround = idx == len(beats) - 1\n",
        "\n",
        "                # Skip first and last beat.\n",
        "                if (firstround or lastround):\n",
        "                    continue\n",
        "\n",
        "                # Get the classification value that is on\n",
        "                # or near the position of the rpeak index.\n",
        "                fromidx = 0 if idxval < 10 else idxval - 10\n",
        "                toidx = idxval + 10\n",
        "                catval = rates[fromidx:toidx].max()\n",
        "                \n",
        "                # Skip beat if there is no classification.\n",
        "                if (catval == 0.0):\n",
        "                    beatstoremove = np.append(beatstoremove, idx)\n",
        "                    continue\n",
        "\n",
        "                # Normal beat is now classified as 0.0 and other beats as 1.0, 2.0, 3.0, 4.0.\n",
        "                catval = catval - 1.0\n",
        "\n",
        "                # Append some extra readings from next beat.\n",
        "                beats[idx] = np.append(beats[idx], beats[idx+1][:40])\n",
        "\n",
        "                # Normalize the readings to a 0-1 range for ML purposes.\n",
        "                beats[idx] = (beats[idx] - beats[idx].min()) / beats[idx].ptp()\n",
        "\n",
        "                # Resample from 360Hz to 125Hz\n",
        "                newsize = int((beats[idx].size * 125 / 360) + 0.5)\n",
        "                beats[idx] = signal.resample(beats[idx], newsize)\n",
        "\n",
        "\n",
        "                # Skipping records that are too long.\n",
        "                if (beats[idx].size > 187):\n",
        "                    beatstoremove = np.append(beatstoremove, idx)\n",
        "                    continue\n",
        "\n",
        "                # Pad with zeroes.\n",
        "                zerocount = 187 - beats[idx].size\n",
        "                beats[idx] = np.pad(beats[idx], (0, zerocount), 'constant', constant_values=(0.0, 0.0))\n",
        "\n",
        "                # Append the classification to the beat data.\n",
        "                beats[idx] = np.append(beats[idx], catval)\n",
        "\n",
        "            beatstoremove = np.append(beatstoremove, len(beats)-1)\n",
        "\n",
        "            # Remove first and last beats and the ones without classification.\n",
        "            beats = np.delete(beats, beatstoremove)\n",
        "\n",
        "            # Save to CSV file.\n",
        "            savedata = np.array(list(beats[:]), dtype=np.float)\n",
        "            answer=np.concatenate((answer,savedata), axis=0)\n",
        "            # print(savedata.shape)\n"
      ]
    },
    {
      "cell_type": "markdown",
      "source": [
        "# ***Total number of Heart beats segmented***"
      ],
      "metadata": {
        "id": "VBlj32NPcwH_"
      }
    },
    {
      "cell_type": "code",
      "execution_count": 8,
      "metadata": {
        "colab": {
          "base_uri": "https://localhost:8080/"
        },
        "id": "Ac9Qbxo-DLyt",
        "outputId": "efefd6f4-789b-4671-cae4-3d27ed82a656"
      },
      "outputs": [
        {
          "output_type": "execute_result",
          "data": {
            "text/plain": [
              "(149359, 188)"
            ]
          },
          "metadata": {},
          "execution_count": 8
        }
      ],
      "source": [
        "answer.shape"
      ]
    },
    {
      "cell_type": "code",
      "execution_count": 9,
      "metadata": {
        "colab": {
          "base_uri": "https://localhost:8080/",
          "height": 424
        },
        "id": "IacErrToaMSe",
        "outputId": "7ea43028-875d-4fe1-9cc3-655d94cb5693"
      },
      "outputs": [
        {
          "output_type": "execute_result",
          "data": {
            "text/plain": [
              "             0         1         2         3         4         5         6    \\\n",
              "1       0.702689  0.813226  0.151830  0.068978  0.086587  0.141946  0.085944   \n",
              "2       0.697762  0.676600  0.015163  0.071940  0.074205  0.102395  0.059207   \n",
              "3       0.674047  0.770846  0.079087  0.035786  0.070586  0.097683  0.051781   \n",
              "4       0.696580  0.852668  0.104336  0.048838  0.083775  0.109022  0.060975   \n",
              "5       0.693693  0.827298  0.119556  0.059384  0.087469  0.110351  0.066213   \n",
              "...          ...       ...       ...       ...       ...       ...       ...   \n",
              "149354  0.794406  0.749113  0.230911  0.256252  0.167967  0.062560 -0.011613   \n",
              "149355  0.774887  0.693777  0.182451  0.233159  0.116215  0.045532  0.012002   \n",
              "149356  0.784643  0.778991  0.263598  0.279832  0.199364  0.098870  0.007030   \n",
              "149357  0.268325  0.304688  0.121543  0.035512  0.048068  0.074584  0.290778   \n",
              "149358  0.323226  0.353626  0.157593  0.066298  0.058167  0.130438  0.429522   \n",
              "\n",
              "             7         8         9    ...  178  179  180  181  182  183  184  \\\n",
              "1       0.109181  0.068552  0.086565  ...  0.0  0.0  0.0  0.0  0.0  0.0  0.0   \n",
              "2       0.074114  0.030159  0.057039  ...  0.0  0.0  0.0  0.0  0.0  0.0  0.0   \n",
              "3       0.071337  0.031134  0.055312  ...  0.0  0.0  0.0  0.0  0.0  0.0  0.0   \n",
              "4       0.078970  0.043573  0.066435  ...  0.0  0.0  0.0  0.0  0.0  0.0  0.0   \n",
              "5       0.082092  0.049471  0.066369  ...  0.0  0.0  0.0  0.0  0.0  0.0  0.0   \n",
              "...          ...       ...       ...  ...  ...  ...  ...  ...  ...  ...  ...   \n",
              "149354  0.071884  0.157248  0.257818  ...  0.0  0.0  0.0  0.0  0.0  0.0  0.0   \n",
              "149355  0.126181  0.210804  0.294106  ...  0.0  0.0  0.0  0.0  0.0  0.0  0.0   \n",
              "149356  0.067120  0.121128  0.223757  ...  0.0  0.0  0.0  0.0  0.0  0.0  0.0   \n",
              "149357  0.714673  0.914341  1.004930  ...  0.0  0.0  0.0  0.0  0.0  0.0  0.0   \n",
              "149358  0.785093  0.922032  0.997242  ...  0.0  0.0  0.0  0.0  0.0  0.0  0.0   \n",
              "\n",
              "        185  186  187  \n",
              "1       0.0  0.0  0.0  \n",
              "2       0.0  0.0  0.0  \n",
              "3       0.0  0.0  0.0  \n",
              "4       0.0  0.0  0.0  \n",
              "5       0.0  0.0  0.0  \n",
              "...     ...  ...  ...  \n",
              "149354  0.0  0.0  4.0  \n",
              "149355  0.0  0.0  4.0  \n",
              "149356  0.0  0.0  4.0  \n",
              "149357  0.0  0.0  4.0  \n",
              "149358  0.0  0.0  4.0  \n",
              "\n",
              "[149358 rows x 188 columns]"
            ],
            "text/html": [
              "\n",
              "  <div id=\"df-514c3beb-1d1c-4395-99fb-32231c26df06\">\n",
              "    <div class=\"colab-df-container\">\n",
              "      <div>\n",
              "<style scoped>\n",
              "    .dataframe tbody tr th:only-of-type {\n",
              "        vertical-align: middle;\n",
              "    }\n",
              "\n",
              "    .dataframe tbody tr th {\n",
              "        vertical-align: top;\n",
              "    }\n",
              "\n",
              "    .dataframe thead th {\n",
              "        text-align: right;\n",
              "    }\n",
              "</style>\n",
              "<table border=\"1\" class=\"dataframe\">\n",
              "  <thead>\n",
              "    <tr style=\"text-align: right;\">\n",
              "      <th></th>\n",
              "      <th>0</th>\n",
              "      <th>1</th>\n",
              "      <th>2</th>\n",
              "      <th>3</th>\n",
              "      <th>4</th>\n",
              "      <th>5</th>\n",
              "      <th>6</th>\n",
              "      <th>7</th>\n",
              "      <th>8</th>\n",
              "      <th>9</th>\n",
              "      <th>...</th>\n",
              "      <th>178</th>\n",
              "      <th>179</th>\n",
              "      <th>180</th>\n",
              "      <th>181</th>\n",
              "      <th>182</th>\n",
              "      <th>183</th>\n",
              "      <th>184</th>\n",
              "      <th>185</th>\n",
              "      <th>186</th>\n",
              "      <th>187</th>\n",
              "    </tr>\n",
              "  </thead>\n",
              "  <tbody>\n",
              "    <tr>\n",
              "      <th>1</th>\n",
              "      <td>0.702689</td>\n",
              "      <td>0.813226</td>\n",
              "      <td>0.151830</td>\n",
              "      <td>0.068978</td>\n",
              "      <td>0.086587</td>\n",
              "      <td>0.141946</td>\n",
              "      <td>0.085944</td>\n",
              "      <td>0.109181</td>\n",
              "      <td>0.068552</td>\n",
              "      <td>0.086565</td>\n",
              "      <td>...</td>\n",
              "      <td>0.0</td>\n",
              "      <td>0.0</td>\n",
              "      <td>0.0</td>\n",
              "      <td>0.0</td>\n",
              "      <td>0.0</td>\n",
              "      <td>0.0</td>\n",
              "      <td>0.0</td>\n",
              "      <td>0.0</td>\n",
              "      <td>0.0</td>\n",
              "      <td>0.0</td>\n",
              "    </tr>\n",
              "    <tr>\n",
              "      <th>2</th>\n",
              "      <td>0.697762</td>\n",
              "      <td>0.676600</td>\n",
              "      <td>0.015163</td>\n",
              "      <td>0.071940</td>\n",
              "      <td>0.074205</td>\n",
              "      <td>0.102395</td>\n",
              "      <td>0.059207</td>\n",
              "      <td>0.074114</td>\n",
              "      <td>0.030159</td>\n",
              "      <td>0.057039</td>\n",
              "      <td>...</td>\n",
              "      <td>0.0</td>\n",
              "      <td>0.0</td>\n",
              "      <td>0.0</td>\n",
              "      <td>0.0</td>\n",
              "      <td>0.0</td>\n",
              "      <td>0.0</td>\n",
              "      <td>0.0</td>\n",
              "      <td>0.0</td>\n",
              "      <td>0.0</td>\n",
              "      <td>0.0</td>\n",
              "    </tr>\n",
              "    <tr>\n",
              "      <th>3</th>\n",
              "      <td>0.674047</td>\n",
              "      <td>0.770846</td>\n",
              "      <td>0.079087</td>\n",
              "      <td>0.035786</td>\n",
              "      <td>0.070586</td>\n",
              "      <td>0.097683</td>\n",
              "      <td>0.051781</td>\n",
              "      <td>0.071337</td>\n",
              "      <td>0.031134</td>\n",
              "      <td>0.055312</td>\n",
              "      <td>...</td>\n",
              "      <td>0.0</td>\n",
              "      <td>0.0</td>\n",
              "      <td>0.0</td>\n",
              "      <td>0.0</td>\n",
              "      <td>0.0</td>\n",
              "      <td>0.0</td>\n",
              "      <td>0.0</td>\n",
              "      <td>0.0</td>\n",
              "      <td>0.0</td>\n",
              "      <td>0.0</td>\n",
              "    </tr>\n",
              "    <tr>\n",
              "      <th>4</th>\n",
              "      <td>0.696580</td>\n",
              "      <td>0.852668</td>\n",
              "      <td>0.104336</td>\n",
              "      <td>0.048838</td>\n",
              "      <td>0.083775</td>\n",
              "      <td>0.109022</td>\n",
              "      <td>0.060975</td>\n",
              "      <td>0.078970</td>\n",
              "      <td>0.043573</td>\n",
              "      <td>0.066435</td>\n",
              "      <td>...</td>\n",
              "      <td>0.0</td>\n",
              "      <td>0.0</td>\n",
              "      <td>0.0</td>\n",
              "      <td>0.0</td>\n",
              "      <td>0.0</td>\n",
              "      <td>0.0</td>\n",
              "      <td>0.0</td>\n",
              "      <td>0.0</td>\n",
              "      <td>0.0</td>\n",
              "      <td>0.0</td>\n",
              "    </tr>\n",
              "    <tr>\n",
              "      <th>5</th>\n",
              "      <td>0.693693</td>\n",
              "      <td>0.827298</td>\n",
              "      <td>0.119556</td>\n",
              "      <td>0.059384</td>\n",
              "      <td>0.087469</td>\n",
              "      <td>0.110351</td>\n",
              "      <td>0.066213</td>\n",
              "      <td>0.082092</td>\n",
              "      <td>0.049471</td>\n",
              "      <td>0.066369</td>\n",
              "      <td>...</td>\n",
              "      <td>0.0</td>\n",
              "      <td>0.0</td>\n",
              "      <td>0.0</td>\n",
              "      <td>0.0</td>\n",
              "      <td>0.0</td>\n",
              "      <td>0.0</td>\n",
              "      <td>0.0</td>\n",
              "      <td>0.0</td>\n",
              "      <td>0.0</td>\n",
              "      <td>0.0</td>\n",
              "    </tr>\n",
              "    <tr>\n",
              "      <th>...</th>\n",
              "      <td>...</td>\n",
              "      <td>...</td>\n",
              "      <td>...</td>\n",
              "      <td>...</td>\n",
              "      <td>...</td>\n",
              "      <td>...</td>\n",
              "      <td>...</td>\n",
              "      <td>...</td>\n",
              "      <td>...</td>\n",
              "      <td>...</td>\n",
              "      <td>...</td>\n",
              "      <td>...</td>\n",
              "      <td>...</td>\n",
              "      <td>...</td>\n",
              "      <td>...</td>\n",
              "      <td>...</td>\n",
              "      <td>...</td>\n",
              "      <td>...</td>\n",
              "      <td>...</td>\n",
              "      <td>...</td>\n",
              "      <td>...</td>\n",
              "    </tr>\n",
              "    <tr>\n",
              "      <th>149354</th>\n",
              "      <td>0.794406</td>\n",
              "      <td>0.749113</td>\n",
              "      <td>0.230911</td>\n",
              "      <td>0.256252</td>\n",
              "      <td>0.167967</td>\n",
              "      <td>0.062560</td>\n",
              "      <td>-0.011613</td>\n",
              "      <td>0.071884</td>\n",
              "      <td>0.157248</td>\n",
              "      <td>0.257818</td>\n",
              "      <td>...</td>\n",
              "      <td>0.0</td>\n",
              "      <td>0.0</td>\n",
              "      <td>0.0</td>\n",
              "      <td>0.0</td>\n",
              "      <td>0.0</td>\n",
              "      <td>0.0</td>\n",
              "      <td>0.0</td>\n",
              "      <td>0.0</td>\n",
              "      <td>0.0</td>\n",
              "      <td>4.0</td>\n",
              "    </tr>\n",
              "    <tr>\n",
              "      <th>149355</th>\n",
              "      <td>0.774887</td>\n",
              "      <td>0.693777</td>\n",
              "      <td>0.182451</td>\n",
              "      <td>0.233159</td>\n",
              "      <td>0.116215</td>\n",
              "      <td>0.045532</td>\n",
              "      <td>0.012002</td>\n",
              "      <td>0.126181</td>\n",
              "      <td>0.210804</td>\n",
              "      <td>0.294106</td>\n",
              "      <td>...</td>\n",
              "      <td>0.0</td>\n",
              "      <td>0.0</td>\n",
              "      <td>0.0</td>\n",
              "      <td>0.0</td>\n",
              "      <td>0.0</td>\n",
              "      <td>0.0</td>\n",
              "      <td>0.0</td>\n",
              "      <td>0.0</td>\n",
              "      <td>0.0</td>\n",
              "      <td>4.0</td>\n",
              "    </tr>\n",
              "    <tr>\n",
              "      <th>149356</th>\n",
              "      <td>0.784643</td>\n",
              "      <td>0.778991</td>\n",
              "      <td>0.263598</td>\n",
              "      <td>0.279832</td>\n",
              "      <td>0.199364</td>\n",
              "      <td>0.098870</td>\n",
              "      <td>0.007030</td>\n",
              "      <td>0.067120</td>\n",
              "      <td>0.121128</td>\n",
              "      <td>0.223757</td>\n",
              "      <td>...</td>\n",
              "      <td>0.0</td>\n",
              "      <td>0.0</td>\n",
              "      <td>0.0</td>\n",
              "      <td>0.0</td>\n",
              "      <td>0.0</td>\n",
              "      <td>0.0</td>\n",
              "      <td>0.0</td>\n",
              "      <td>0.0</td>\n",
              "      <td>0.0</td>\n",
              "      <td>4.0</td>\n",
              "    </tr>\n",
              "    <tr>\n",
              "      <th>149357</th>\n",
              "      <td>0.268325</td>\n",
              "      <td>0.304688</td>\n",
              "      <td>0.121543</td>\n",
              "      <td>0.035512</td>\n",
              "      <td>0.048068</td>\n",
              "      <td>0.074584</td>\n",
              "      <td>0.290778</td>\n",
              "      <td>0.714673</td>\n",
              "      <td>0.914341</td>\n",
              "      <td>1.004930</td>\n",
              "      <td>...</td>\n",
              "      <td>0.0</td>\n",
              "      <td>0.0</td>\n",
              "      <td>0.0</td>\n",
              "      <td>0.0</td>\n",
              "      <td>0.0</td>\n",
              "      <td>0.0</td>\n",
              "      <td>0.0</td>\n",
              "      <td>0.0</td>\n",
              "      <td>0.0</td>\n",
              "      <td>4.0</td>\n",
              "    </tr>\n",
              "    <tr>\n",
              "      <th>149358</th>\n",
              "      <td>0.323226</td>\n",
              "      <td>0.353626</td>\n",
              "      <td>0.157593</td>\n",
              "      <td>0.066298</td>\n",
              "      <td>0.058167</td>\n",
              "      <td>0.130438</td>\n",
              "      <td>0.429522</td>\n",
              "      <td>0.785093</td>\n",
              "      <td>0.922032</td>\n",
              "      <td>0.997242</td>\n",
              "      <td>...</td>\n",
              "      <td>0.0</td>\n",
              "      <td>0.0</td>\n",
              "      <td>0.0</td>\n",
              "      <td>0.0</td>\n",
              "      <td>0.0</td>\n",
              "      <td>0.0</td>\n",
              "      <td>0.0</td>\n",
              "      <td>0.0</td>\n",
              "      <td>0.0</td>\n",
              "      <td>4.0</td>\n",
              "    </tr>\n",
              "  </tbody>\n",
              "</table>\n",
              "<p>149358 rows × 188 columns</p>\n",
              "</div>\n",
              "      <button class=\"colab-df-convert\" onclick=\"convertToInteractive('df-514c3beb-1d1c-4395-99fb-32231c26df06')\"\n",
              "              title=\"Convert this dataframe to an interactive table.\"\n",
              "              style=\"display:none;\">\n",
              "        \n",
              "  <svg xmlns=\"http://www.w3.org/2000/svg\" height=\"24px\"viewBox=\"0 0 24 24\"\n",
              "       width=\"24px\">\n",
              "    <path d=\"M0 0h24v24H0V0z\" fill=\"none\"/>\n",
              "    <path d=\"M18.56 5.44l.94 2.06.94-2.06 2.06-.94-2.06-.94-.94-2.06-.94 2.06-2.06.94zm-11 1L8.5 8.5l.94-2.06 2.06-.94-2.06-.94L8.5 2.5l-.94 2.06-2.06.94zm10 10l.94 2.06.94-2.06 2.06-.94-2.06-.94-.94-2.06-.94 2.06-2.06.94z\"/><path d=\"M17.41 7.96l-1.37-1.37c-.4-.4-.92-.59-1.43-.59-.52 0-1.04.2-1.43.59L10.3 9.45l-7.72 7.72c-.78.78-.78 2.05 0 2.83L4 21.41c.39.39.9.59 1.41.59.51 0 1.02-.2 1.41-.59l7.78-7.78 2.81-2.81c.8-.78.8-2.07 0-2.86zM5.41 20L4 18.59l7.72-7.72 1.47 1.35L5.41 20z\"/>\n",
              "  </svg>\n",
              "      </button>\n",
              "      \n",
              "  <style>\n",
              "    .colab-df-container {\n",
              "      display:flex;\n",
              "      flex-wrap:wrap;\n",
              "      gap: 12px;\n",
              "    }\n",
              "\n",
              "    .colab-df-convert {\n",
              "      background-color: #E8F0FE;\n",
              "      border: none;\n",
              "      border-radius: 50%;\n",
              "      cursor: pointer;\n",
              "      display: none;\n",
              "      fill: #1967D2;\n",
              "      height: 32px;\n",
              "      padding: 0 0 0 0;\n",
              "      width: 32px;\n",
              "    }\n",
              "\n",
              "    .colab-df-convert:hover {\n",
              "      background-color: #E2EBFA;\n",
              "      box-shadow: 0px 1px 2px rgba(60, 64, 67, 0.3), 0px 1px 3px 1px rgba(60, 64, 67, 0.15);\n",
              "      fill: #174EA6;\n",
              "    }\n",
              "\n",
              "    [theme=dark] .colab-df-convert {\n",
              "      background-color: #3B4455;\n",
              "      fill: #D2E3FC;\n",
              "    }\n",
              "\n",
              "    [theme=dark] .colab-df-convert:hover {\n",
              "      background-color: #434B5C;\n",
              "      box-shadow: 0px 1px 3px 1px rgba(0, 0, 0, 0.15);\n",
              "      filter: drop-shadow(0px 1px 2px rgba(0, 0, 0, 0.3));\n",
              "      fill: #FFFFFF;\n",
              "    }\n",
              "  </style>\n",
              "\n",
              "      <script>\n",
              "        const buttonEl =\n",
              "          document.querySelector('#df-514c3beb-1d1c-4395-99fb-32231c26df06 button.colab-df-convert');\n",
              "        buttonEl.style.display =\n",
              "          google.colab.kernel.accessAllowed ? 'block' : 'none';\n",
              "\n",
              "        async function convertToInteractive(key) {\n",
              "          const element = document.querySelector('#df-514c3beb-1d1c-4395-99fb-32231c26df06');\n",
              "          const dataTable =\n",
              "            await google.colab.kernel.invokeFunction('convertToInteractive',\n",
              "                                                     [key], {});\n",
              "          if (!dataTable) return;\n",
              "\n",
              "          const docLinkHtml = 'Like what you see? Visit the ' +\n",
              "            '<a target=\"_blank\" href=https://colab.research.google.com/notebooks/data_table.ipynb>data table notebook</a>'\n",
              "            + ' to learn more about interactive tables.';\n",
              "          element.innerHTML = '';\n",
              "          dataTable['output_type'] = 'display_data';\n",
              "          await google.colab.output.renderOutput(dataTable, element);\n",
              "          const docLink = document.createElement('div');\n",
              "          docLink.innerHTML = docLinkHtml;\n",
              "          element.appendChild(docLink);\n",
              "        }\n",
              "      </script>\n",
              "    </div>\n",
              "  </div>\n",
              "  "
            ]
          },
          "metadata": {},
          "execution_count": 9
        }
      ],
      "source": [
        "df_original = pd.DataFrame(answer)\n",
        "df_original=df_original.drop(0)\n",
        "df_original"
      ]
    },
    {
      "cell_type": "code",
      "execution_count": 11,
      "metadata": {
        "colab": {
          "base_uri": "https://localhost:8080/"
        },
        "id": "bcVzB0OIeelH",
        "outputId": "5a812d03-ef74-488e-891b-4555c85d8f57"
      },
      "outputs": [
        {
          "output_type": "execute_result",
          "data": {
            "text/plain": [
              "0.0    112447\n",
              "4.0     31304\n",
              "2.0      4783\n",
              "3.0       820\n",
              "1.0         4\n",
              "Name: 187, dtype: int64"
            ]
          },
          "metadata": {},
          "execution_count": 11
        }
      ],
      "source": [
        "df_original[187].value_counts()\n",
        "# 1.0 Normal\n",
        "# 2.0 Supraventricular premature beat\n",
        "# 3.0 Premature ventricular contraction\n",
        "# 4.0 Fusion of ventricular and normal beat\n",
        "# 5.0 Unclassifiable beat"
      ]
    },
    {
      "cell_type": "code",
      "execution_count": 12,
      "metadata": {
        "id": "AJZQKK87O6ar"
      },
      "outputs": [],
      "source": [
        "from sklearn.ensemble import RandomForestClassifier\n",
        "from sklearn.neighbors import KNeighborsClassifier"
      ]
    },
    {
      "cell_type": "code",
      "execution_count": 13,
      "metadata": {
        "colab": {
          "base_uri": "https://localhost:8080/",
          "height": 424
        },
        "id": "aOzc9ZGPHT4B",
        "outputId": "a3566bad-e2e0-416c-dd06-312f4a15d28e"
      },
      "outputs": [
        {
          "output_type": "execute_result",
          "data": {
            "text/plain": [
              "             0         1         2         3         4         5         6    \\\n",
              "0       0.702689  0.813226  0.151830  0.068978  0.086587  0.141946  0.085944   \n",
              "1       0.697762  0.676600  0.015163  0.071940  0.074205  0.102395  0.059207   \n",
              "2       0.674047  0.770846  0.079087  0.035786  0.070586  0.097683  0.051781   \n",
              "3       0.696580  0.852668  0.104336  0.048838  0.083775  0.109022  0.060975   \n",
              "4       0.693693  0.827298  0.119556  0.059384  0.087469  0.110351  0.066213   \n",
              "...          ...       ...       ...       ...       ...       ...       ...   \n",
              "149357  0.323226  0.353626  0.157593  0.066298  0.058167  0.130438  0.429522   \n",
              "149358  0.696857  0.671122  0.061700  0.078461  0.056841  0.068854  0.039561   \n",
              "149359  0.719439  0.719067  0.156641  0.149131  0.095305  0.161552  0.108794   \n",
              "149360  0.790847  0.667305  0.704660  0.732847  0.734461  0.714703  0.733889   \n",
              "149361  0.802888  0.834503  0.545472  0.552610  0.480835  0.501292  0.474962   \n",
              "\n",
              "             7         8         9    ...  178  179  180  181  182  183  184  \\\n",
              "0       0.109181  0.068552  0.086565  ...  0.0  0.0  0.0  0.0  0.0  0.0  0.0   \n",
              "1       0.074114  0.030159  0.057039  ...  0.0  0.0  0.0  0.0  0.0  0.0  0.0   \n",
              "2       0.071337  0.031134  0.055312  ...  0.0  0.0  0.0  0.0  0.0  0.0  0.0   \n",
              "3       0.078970  0.043573  0.066435  ...  0.0  0.0  0.0  0.0  0.0  0.0  0.0   \n",
              "4       0.082092  0.049471  0.066369  ...  0.0  0.0  0.0  0.0  0.0  0.0  0.0   \n",
              "...          ...       ...       ...  ...  ...  ...  ...  ...  ...  ...  ...   \n",
              "149357  0.785093  0.922032  0.997242  ...  0.0  0.0  0.0  0.0  0.0  0.0  0.0   \n",
              "149358  0.062272  0.048856  0.062665  ...  0.0  0.0  0.0  0.0  0.0  0.0  0.0   \n",
              "149359  0.146510  0.105051  0.142070  ...  0.0  0.0  0.0  0.0  0.0  0.0  0.0   \n",
              "149360  0.745819  0.715121  0.707548  ...  0.0  0.0  0.0  0.0  0.0  0.0  0.0   \n",
              "149361  0.502716  0.475063  0.474981  ...  0.0  0.0  0.0  0.0  0.0  0.0  0.0   \n",
              "\n",
              "        185  186  187  \n",
              "0       0.0  0.0  0.0  \n",
              "1       0.0  0.0  0.0  \n",
              "2       0.0  0.0  0.0  \n",
              "3       0.0  0.0  0.0  \n",
              "4       0.0  0.0  0.0  \n",
              "...     ...  ...  ...  \n",
              "149357  0.0  0.0  4.0  \n",
              "149358  0.0  0.0  1.0  \n",
              "149359  0.0  0.0  1.0  \n",
              "149360  0.0  0.0  1.0  \n",
              "149361  0.0  0.0  1.0  \n",
              "\n",
              "[149362 rows x 188 columns]"
            ],
            "text/html": [
              "\n",
              "  <div id=\"df-42e814bc-52ca-458b-8a8f-d4bedb6c4013\">\n",
              "    <div class=\"colab-df-container\">\n",
              "      <div>\n",
              "<style scoped>\n",
              "    .dataframe tbody tr th:only-of-type {\n",
              "        vertical-align: middle;\n",
              "    }\n",
              "\n",
              "    .dataframe tbody tr th {\n",
              "        vertical-align: top;\n",
              "    }\n",
              "\n",
              "    .dataframe thead th {\n",
              "        text-align: right;\n",
              "    }\n",
              "</style>\n",
              "<table border=\"1\" class=\"dataframe\">\n",
              "  <thead>\n",
              "    <tr style=\"text-align: right;\">\n",
              "      <th></th>\n",
              "      <th>0</th>\n",
              "      <th>1</th>\n",
              "      <th>2</th>\n",
              "      <th>3</th>\n",
              "      <th>4</th>\n",
              "      <th>5</th>\n",
              "      <th>6</th>\n",
              "      <th>7</th>\n",
              "      <th>8</th>\n",
              "      <th>9</th>\n",
              "      <th>...</th>\n",
              "      <th>178</th>\n",
              "      <th>179</th>\n",
              "      <th>180</th>\n",
              "      <th>181</th>\n",
              "      <th>182</th>\n",
              "      <th>183</th>\n",
              "      <th>184</th>\n",
              "      <th>185</th>\n",
              "      <th>186</th>\n",
              "      <th>187</th>\n",
              "    </tr>\n",
              "  </thead>\n",
              "  <tbody>\n",
              "    <tr>\n",
              "      <th>0</th>\n",
              "      <td>0.702689</td>\n",
              "      <td>0.813226</td>\n",
              "      <td>0.151830</td>\n",
              "      <td>0.068978</td>\n",
              "      <td>0.086587</td>\n",
              "      <td>0.141946</td>\n",
              "      <td>0.085944</td>\n",
              "      <td>0.109181</td>\n",
              "      <td>0.068552</td>\n",
              "      <td>0.086565</td>\n",
              "      <td>...</td>\n",
              "      <td>0.0</td>\n",
              "      <td>0.0</td>\n",
              "      <td>0.0</td>\n",
              "      <td>0.0</td>\n",
              "      <td>0.0</td>\n",
              "      <td>0.0</td>\n",
              "      <td>0.0</td>\n",
              "      <td>0.0</td>\n",
              "      <td>0.0</td>\n",
              "      <td>0.0</td>\n",
              "    </tr>\n",
              "    <tr>\n",
              "      <th>1</th>\n",
              "      <td>0.697762</td>\n",
              "      <td>0.676600</td>\n",
              "      <td>0.015163</td>\n",
              "      <td>0.071940</td>\n",
              "      <td>0.074205</td>\n",
              "      <td>0.102395</td>\n",
              "      <td>0.059207</td>\n",
              "      <td>0.074114</td>\n",
              "      <td>0.030159</td>\n",
              "      <td>0.057039</td>\n",
              "      <td>...</td>\n",
              "      <td>0.0</td>\n",
              "      <td>0.0</td>\n",
              "      <td>0.0</td>\n",
              "      <td>0.0</td>\n",
              "      <td>0.0</td>\n",
              "      <td>0.0</td>\n",
              "      <td>0.0</td>\n",
              "      <td>0.0</td>\n",
              "      <td>0.0</td>\n",
              "      <td>0.0</td>\n",
              "    </tr>\n",
              "    <tr>\n",
              "      <th>2</th>\n",
              "      <td>0.674047</td>\n",
              "      <td>0.770846</td>\n",
              "      <td>0.079087</td>\n",
              "      <td>0.035786</td>\n",
              "      <td>0.070586</td>\n",
              "      <td>0.097683</td>\n",
              "      <td>0.051781</td>\n",
              "      <td>0.071337</td>\n",
              "      <td>0.031134</td>\n",
              "      <td>0.055312</td>\n",
              "      <td>...</td>\n",
              "      <td>0.0</td>\n",
              "      <td>0.0</td>\n",
              "      <td>0.0</td>\n",
              "      <td>0.0</td>\n",
              "      <td>0.0</td>\n",
              "      <td>0.0</td>\n",
              "      <td>0.0</td>\n",
              "      <td>0.0</td>\n",
              "      <td>0.0</td>\n",
              "      <td>0.0</td>\n",
              "    </tr>\n",
              "    <tr>\n",
              "      <th>3</th>\n",
              "      <td>0.696580</td>\n",
              "      <td>0.852668</td>\n",
              "      <td>0.104336</td>\n",
              "      <td>0.048838</td>\n",
              "      <td>0.083775</td>\n",
              "      <td>0.109022</td>\n",
              "      <td>0.060975</td>\n",
              "      <td>0.078970</td>\n",
              "      <td>0.043573</td>\n",
              "      <td>0.066435</td>\n",
              "      <td>...</td>\n",
              "      <td>0.0</td>\n",
              "      <td>0.0</td>\n",
              "      <td>0.0</td>\n",
              "      <td>0.0</td>\n",
              "      <td>0.0</td>\n",
              "      <td>0.0</td>\n",
              "      <td>0.0</td>\n",
              "      <td>0.0</td>\n",
              "      <td>0.0</td>\n",
              "      <td>0.0</td>\n",
              "    </tr>\n",
              "    <tr>\n",
              "      <th>4</th>\n",
              "      <td>0.693693</td>\n",
              "      <td>0.827298</td>\n",
              "      <td>0.119556</td>\n",
              "      <td>0.059384</td>\n",
              "      <td>0.087469</td>\n",
              "      <td>0.110351</td>\n",
              "      <td>0.066213</td>\n",
              "      <td>0.082092</td>\n",
              "      <td>0.049471</td>\n",
              "      <td>0.066369</td>\n",
              "      <td>...</td>\n",
              "      <td>0.0</td>\n",
              "      <td>0.0</td>\n",
              "      <td>0.0</td>\n",
              "      <td>0.0</td>\n",
              "      <td>0.0</td>\n",
              "      <td>0.0</td>\n",
              "      <td>0.0</td>\n",
              "      <td>0.0</td>\n",
              "      <td>0.0</td>\n",
              "      <td>0.0</td>\n",
              "    </tr>\n",
              "    <tr>\n",
              "      <th>...</th>\n",
              "      <td>...</td>\n",
              "      <td>...</td>\n",
              "      <td>...</td>\n",
              "      <td>...</td>\n",
              "      <td>...</td>\n",
              "      <td>...</td>\n",
              "      <td>...</td>\n",
              "      <td>...</td>\n",
              "      <td>...</td>\n",
              "      <td>...</td>\n",
              "      <td>...</td>\n",
              "      <td>...</td>\n",
              "      <td>...</td>\n",
              "      <td>...</td>\n",
              "      <td>...</td>\n",
              "      <td>...</td>\n",
              "      <td>...</td>\n",
              "      <td>...</td>\n",
              "      <td>...</td>\n",
              "      <td>...</td>\n",
              "      <td>...</td>\n",
              "    </tr>\n",
              "    <tr>\n",
              "      <th>149357</th>\n",
              "      <td>0.323226</td>\n",
              "      <td>0.353626</td>\n",
              "      <td>0.157593</td>\n",
              "      <td>0.066298</td>\n",
              "      <td>0.058167</td>\n",
              "      <td>0.130438</td>\n",
              "      <td>0.429522</td>\n",
              "      <td>0.785093</td>\n",
              "      <td>0.922032</td>\n",
              "      <td>0.997242</td>\n",
              "      <td>...</td>\n",
              "      <td>0.0</td>\n",
              "      <td>0.0</td>\n",
              "      <td>0.0</td>\n",
              "      <td>0.0</td>\n",
              "      <td>0.0</td>\n",
              "      <td>0.0</td>\n",
              "      <td>0.0</td>\n",
              "      <td>0.0</td>\n",
              "      <td>0.0</td>\n",
              "      <td>4.0</td>\n",
              "    </tr>\n",
              "    <tr>\n",
              "      <th>149358</th>\n",
              "      <td>0.696857</td>\n",
              "      <td>0.671122</td>\n",
              "      <td>0.061700</td>\n",
              "      <td>0.078461</td>\n",
              "      <td>0.056841</td>\n",
              "      <td>0.068854</td>\n",
              "      <td>0.039561</td>\n",
              "      <td>0.062272</td>\n",
              "      <td>0.048856</td>\n",
              "      <td>0.062665</td>\n",
              "      <td>...</td>\n",
              "      <td>0.0</td>\n",
              "      <td>0.0</td>\n",
              "      <td>0.0</td>\n",
              "      <td>0.0</td>\n",
              "      <td>0.0</td>\n",
              "      <td>0.0</td>\n",
              "      <td>0.0</td>\n",
              "      <td>0.0</td>\n",
              "      <td>0.0</td>\n",
              "      <td>1.0</td>\n",
              "    </tr>\n",
              "    <tr>\n",
              "      <th>149359</th>\n",
              "      <td>0.719439</td>\n",
              "      <td>0.719067</td>\n",
              "      <td>0.156641</td>\n",
              "      <td>0.149131</td>\n",
              "      <td>0.095305</td>\n",
              "      <td>0.161552</td>\n",
              "      <td>0.108794</td>\n",
              "      <td>0.146510</td>\n",
              "      <td>0.105051</td>\n",
              "      <td>0.142070</td>\n",
              "      <td>...</td>\n",
              "      <td>0.0</td>\n",
              "      <td>0.0</td>\n",
              "      <td>0.0</td>\n",
              "      <td>0.0</td>\n",
              "      <td>0.0</td>\n",
              "      <td>0.0</td>\n",
              "      <td>0.0</td>\n",
              "      <td>0.0</td>\n",
              "      <td>0.0</td>\n",
              "      <td>1.0</td>\n",
              "    </tr>\n",
              "    <tr>\n",
              "      <th>149360</th>\n",
              "      <td>0.790847</td>\n",
              "      <td>0.667305</td>\n",
              "      <td>0.704660</td>\n",
              "      <td>0.732847</td>\n",
              "      <td>0.734461</td>\n",
              "      <td>0.714703</td>\n",
              "      <td>0.733889</td>\n",
              "      <td>0.745819</td>\n",
              "      <td>0.715121</td>\n",
              "      <td>0.707548</td>\n",
              "      <td>...</td>\n",
              "      <td>0.0</td>\n",
              "      <td>0.0</td>\n",
              "      <td>0.0</td>\n",
              "      <td>0.0</td>\n",
              "      <td>0.0</td>\n",
              "      <td>0.0</td>\n",
              "      <td>0.0</td>\n",
              "      <td>0.0</td>\n",
              "      <td>0.0</td>\n",
              "      <td>1.0</td>\n",
              "    </tr>\n",
              "    <tr>\n",
              "      <th>149361</th>\n",
              "      <td>0.802888</td>\n",
              "      <td>0.834503</td>\n",
              "      <td>0.545472</td>\n",
              "      <td>0.552610</td>\n",
              "      <td>0.480835</td>\n",
              "      <td>0.501292</td>\n",
              "      <td>0.474962</td>\n",
              "      <td>0.502716</td>\n",
              "      <td>0.475063</td>\n",
              "      <td>0.474981</td>\n",
              "      <td>...</td>\n",
              "      <td>0.0</td>\n",
              "      <td>0.0</td>\n",
              "      <td>0.0</td>\n",
              "      <td>0.0</td>\n",
              "      <td>0.0</td>\n",
              "      <td>0.0</td>\n",
              "      <td>0.0</td>\n",
              "      <td>0.0</td>\n",
              "      <td>0.0</td>\n",
              "      <td>1.0</td>\n",
              "    </tr>\n",
              "  </tbody>\n",
              "</table>\n",
              "<p>149362 rows × 188 columns</p>\n",
              "</div>\n",
              "      <button class=\"colab-df-convert\" onclick=\"convertToInteractive('df-42e814bc-52ca-458b-8a8f-d4bedb6c4013')\"\n",
              "              title=\"Convert this dataframe to an interactive table.\"\n",
              "              style=\"display:none;\">\n",
              "        \n",
              "  <svg xmlns=\"http://www.w3.org/2000/svg\" height=\"24px\"viewBox=\"0 0 24 24\"\n",
              "       width=\"24px\">\n",
              "    <path d=\"M0 0h24v24H0V0z\" fill=\"none\"/>\n",
              "    <path d=\"M18.56 5.44l.94 2.06.94-2.06 2.06-.94-2.06-.94-.94-2.06-.94 2.06-2.06.94zm-11 1L8.5 8.5l.94-2.06 2.06-.94-2.06-.94L8.5 2.5l-.94 2.06-2.06.94zm10 10l.94 2.06.94-2.06 2.06-.94-2.06-.94-.94-2.06-.94 2.06-2.06.94z\"/><path d=\"M17.41 7.96l-1.37-1.37c-.4-.4-.92-.59-1.43-.59-.52 0-1.04.2-1.43.59L10.3 9.45l-7.72 7.72c-.78.78-.78 2.05 0 2.83L4 21.41c.39.39.9.59 1.41.59.51 0 1.02-.2 1.41-.59l7.78-7.78 2.81-2.81c.8-.78.8-2.07 0-2.86zM5.41 20L4 18.59l7.72-7.72 1.47 1.35L5.41 20z\"/>\n",
              "  </svg>\n",
              "      </button>\n",
              "      \n",
              "  <style>\n",
              "    .colab-df-container {\n",
              "      display:flex;\n",
              "      flex-wrap:wrap;\n",
              "      gap: 12px;\n",
              "    }\n",
              "\n",
              "    .colab-df-convert {\n",
              "      background-color: #E8F0FE;\n",
              "      border: none;\n",
              "      border-radius: 50%;\n",
              "      cursor: pointer;\n",
              "      display: none;\n",
              "      fill: #1967D2;\n",
              "      height: 32px;\n",
              "      padding: 0 0 0 0;\n",
              "      width: 32px;\n",
              "    }\n",
              "\n",
              "    .colab-df-convert:hover {\n",
              "      background-color: #E2EBFA;\n",
              "      box-shadow: 0px 1px 2px rgba(60, 64, 67, 0.3), 0px 1px 3px 1px rgba(60, 64, 67, 0.15);\n",
              "      fill: #174EA6;\n",
              "    }\n",
              "\n",
              "    [theme=dark] .colab-df-convert {\n",
              "      background-color: #3B4455;\n",
              "      fill: #D2E3FC;\n",
              "    }\n",
              "\n",
              "    [theme=dark] .colab-df-convert:hover {\n",
              "      background-color: #434B5C;\n",
              "      box-shadow: 0px 1px 3px 1px rgba(0, 0, 0, 0.15);\n",
              "      filter: drop-shadow(0px 1px 2px rgba(0, 0, 0, 0.3));\n",
              "      fill: #FFFFFF;\n",
              "    }\n",
              "  </style>\n",
              "\n",
              "      <script>\n",
              "        const buttonEl =\n",
              "          document.querySelector('#df-42e814bc-52ca-458b-8a8f-d4bedb6c4013 button.colab-df-convert');\n",
              "        buttonEl.style.display =\n",
              "          google.colab.kernel.accessAllowed ? 'block' : 'none';\n",
              "\n",
              "        async function convertToInteractive(key) {\n",
              "          const element = document.querySelector('#df-42e814bc-52ca-458b-8a8f-d4bedb6c4013');\n",
              "          const dataTable =\n",
              "            await google.colab.kernel.invokeFunction('convertToInteractive',\n",
              "                                                     [key], {});\n",
              "          if (!dataTable) return;\n",
              "\n",
              "          const docLinkHtml = 'Like what you see? Visit the ' +\n",
              "            '<a target=\"_blank\" href=https://colab.research.google.com/notebooks/data_table.ipynb>data table notebook</a>'\n",
              "            + ' to learn more about interactive tables.';\n",
              "          element.innerHTML = '';\n",
              "          dataTable['output_type'] = 'display_data';\n",
              "          await google.colab.output.renderOutput(dataTable, element);\n",
              "          const docLink = document.createElement('div');\n",
              "          docLink.innerHTML = docLinkHtml;\n",
              "          element.appendChild(docLink);\n",
              "        }\n",
              "      </script>\n",
              "    </div>\n",
              "  </div>\n",
              "  "
            ]
          },
          "metadata": {},
          "execution_count": 13
        }
      ],
      "source": [
        "\n",
        "\n",
        "one_df=df_original[df_original[187]==1] #the class label 1 are only 4 instances . Hence, repetative addition of the same class label instances\n",
        "one_df\n",
        "\n",
        "df=pd.concat([df_original,one_df],axis=0,ignore_index=True)\n",
        "df\n"
      ]
    },
    {
      "cell_type": "markdown",
      "source": [
        "# ***3-Fold Cross validation***"
      ],
      "metadata": {
        "id": "2RPO49kOdQwP"
      }
    },
    {
      "cell_type": "code",
      "execution_count": 14,
      "metadata": {
        "colab": {
          "base_uri": "https://localhost:8080/",
          "height": 424
        },
        "id": "UtE7Ce0Oeiif",
        "outputId": "a6e1a160-5b4b-4535-cdec-e96f8e868734"
      },
      "outputs": [
        {
          "output_type": "execute_result",
          "data": {
            "text/plain": [
              "             0         1         2         3         4         5         6    \\\n",
              "0       0.702689  0.813226  0.151830  0.068978  0.086587  0.141946  0.085944   \n",
              "1       0.697762  0.676600  0.015163  0.071940  0.074205  0.102395  0.059207   \n",
              "2       0.674047  0.770846  0.079087  0.035786  0.070586  0.097683  0.051781   \n",
              "3       0.696580  0.852668  0.104336  0.048838  0.083775  0.109022  0.060975   \n",
              "4       0.693693  0.827298  0.119556  0.059384  0.087469  0.110351  0.066213   \n",
              "...          ...       ...       ...       ...       ...       ...       ...   \n",
              "149357  0.323226  0.353626  0.157593  0.066298  0.058167  0.130438  0.429522   \n",
              "149358  0.696857  0.671122  0.061700  0.078461  0.056841  0.068854  0.039561   \n",
              "149359  0.719439  0.719067  0.156641  0.149131  0.095305  0.161552  0.108794   \n",
              "149360  0.790847  0.667305  0.704660  0.732847  0.734461  0.714703  0.733889   \n",
              "149361  0.802888  0.834503  0.545472  0.552610  0.480835  0.501292  0.474962   \n",
              "\n",
              "             7         8         9    ...  177  178  179  180  181  182  183  \\\n",
              "0       0.109181  0.068552  0.086565  ...  0.0  0.0  0.0  0.0  0.0  0.0  0.0   \n",
              "1       0.074114  0.030159  0.057039  ...  0.0  0.0  0.0  0.0  0.0  0.0  0.0   \n",
              "2       0.071337  0.031134  0.055312  ...  0.0  0.0  0.0  0.0  0.0  0.0  0.0   \n",
              "3       0.078970  0.043573  0.066435  ...  0.0  0.0  0.0  0.0  0.0  0.0  0.0   \n",
              "4       0.082092  0.049471  0.066369  ...  0.0  0.0  0.0  0.0  0.0  0.0  0.0   \n",
              "...          ...       ...       ...  ...  ...  ...  ...  ...  ...  ...  ...   \n",
              "149357  0.785093  0.922032  0.997242  ...  0.0  0.0  0.0  0.0  0.0  0.0  0.0   \n",
              "149358  0.062272  0.048856  0.062665  ...  0.0  0.0  0.0  0.0  0.0  0.0  0.0   \n",
              "149359  0.146510  0.105051  0.142070  ...  0.0  0.0  0.0  0.0  0.0  0.0  0.0   \n",
              "149360  0.745819  0.715121  0.707548  ...  0.0  0.0  0.0  0.0  0.0  0.0  0.0   \n",
              "149361  0.502716  0.475063  0.474981  ...  0.0  0.0  0.0  0.0  0.0  0.0  0.0   \n",
              "\n",
              "        184  185  186  \n",
              "0       0.0  0.0  0.0  \n",
              "1       0.0  0.0  0.0  \n",
              "2       0.0  0.0  0.0  \n",
              "3       0.0  0.0  0.0  \n",
              "4       0.0  0.0  0.0  \n",
              "...     ...  ...  ...  \n",
              "149357  0.0  0.0  0.0  \n",
              "149358  0.0  0.0  0.0  \n",
              "149359  0.0  0.0  0.0  \n",
              "149360  0.0  0.0  0.0  \n",
              "149361  0.0  0.0  0.0  \n",
              "\n",
              "[149362 rows x 187 columns]"
            ],
            "text/html": [
              "\n",
              "  <div id=\"df-b212305f-874d-47b7-9601-027623d731fb\">\n",
              "    <div class=\"colab-df-container\">\n",
              "      <div>\n",
              "<style scoped>\n",
              "    .dataframe tbody tr th:only-of-type {\n",
              "        vertical-align: middle;\n",
              "    }\n",
              "\n",
              "    .dataframe tbody tr th {\n",
              "        vertical-align: top;\n",
              "    }\n",
              "\n",
              "    .dataframe thead th {\n",
              "        text-align: right;\n",
              "    }\n",
              "</style>\n",
              "<table border=\"1\" class=\"dataframe\">\n",
              "  <thead>\n",
              "    <tr style=\"text-align: right;\">\n",
              "      <th></th>\n",
              "      <th>0</th>\n",
              "      <th>1</th>\n",
              "      <th>2</th>\n",
              "      <th>3</th>\n",
              "      <th>4</th>\n",
              "      <th>5</th>\n",
              "      <th>6</th>\n",
              "      <th>7</th>\n",
              "      <th>8</th>\n",
              "      <th>9</th>\n",
              "      <th>...</th>\n",
              "      <th>177</th>\n",
              "      <th>178</th>\n",
              "      <th>179</th>\n",
              "      <th>180</th>\n",
              "      <th>181</th>\n",
              "      <th>182</th>\n",
              "      <th>183</th>\n",
              "      <th>184</th>\n",
              "      <th>185</th>\n",
              "      <th>186</th>\n",
              "    </tr>\n",
              "  </thead>\n",
              "  <tbody>\n",
              "    <tr>\n",
              "      <th>0</th>\n",
              "      <td>0.702689</td>\n",
              "      <td>0.813226</td>\n",
              "      <td>0.151830</td>\n",
              "      <td>0.068978</td>\n",
              "      <td>0.086587</td>\n",
              "      <td>0.141946</td>\n",
              "      <td>0.085944</td>\n",
              "      <td>0.109181</td>\n",
              "      <td>0.068552</td>\n",
              "      <td>0.086565</td>\n",
              "      <td>...</td>\n",
              "      <td>0.0</td>\n",
              "      <td>0.0</td>\n",
              "      <td>0.0</td>\n",
              "      <td>0.0</td>\n",
              "      <td>0.0</td>\n",
              "      <td>0.0</td>\n",
              "      <td>0.0</td>\n",
              "      <td>0.0</td>\n",
              "      <td>0.0</td>\n",
              "      <td>0.0</td>\n",
              "    </tr>\n",
              "    <tr>\n",
              "      <th>1</th>\n",
              "      <td>0.697762</td>\n",
              "      <td>0.676600</td>\n",
              "      <td>0.015163</td>\n",
              "      <td>0.071940</td>\n",
              "      <td>0.074205</td>\n",
              "      <td>0.102395</td>\n",
              "      <td>0.059207</td>\n",
              "      <td>0.074114</td>\n",
              "      <td>0.030159</td>\n",
              "      <td>0.057039</td>\n",
              "      <td>...</td>\n",
              "      <td>0.0</td>\n",
              "      <td>0.0</td>\n",
              "      <td>0.0</td>\n",
              "      <td>0.0</td>\n",
              "      <td>0.0</td>\n",
              "      <td>0.0</td>\n",
              "      <td>0.0</td>\n",
              "      <td>0.0</td>\n",
              "      <td>0.0</td>\n",
              "      <td>0.0</td>\n",
              "    </tr>\n",
              "    <tr>\n",
              "      <th>2</th>\n",
              "      <td>0.674047</td>\n",
              "      <td>0.770846</td>\n",
              "      <td>0.079087</td>\n",
              "      <td>0.035786</td>\n",
              "      <td>0.070586</td>\n",
              "      <td>0.097683</td>\n",
              "      <td>0.051781</td>\n",
              "      <td>0.071337</td>\n",
              "      <td>0.031134</td>\n",
              "      <td>0.055312</td>\n",
              "      <td>...</td>\n",
              "      <td>0.0</td>\n",
              "      <td>0.0</td>\n",
              "      <td>0.0</td>\n",
              "      <td>0.0</td>\n",
              "      <td>0.0</td>\n",
              "      <td>0.0</td>\n",
              "      <td>0.0</td>\n",
              "      <td>0.0</td>\n",
              "      <td>0.0</td>\n",
              "      <td>0.0</td>\n",
              "    </tr>\n",
              "    <tr>\n",
              "      <th>3</th>\n",
              "      <td>0.696580</td>\n",
              "      <td>0.852668</td>\n",
              "      <td>0.104336</td>\n",
              "      <td>0.048838</td>\n",
              "      <td>0.083775</td>\n",
              "      <td>0.109022</td>\n",
              "      <td>0.060975</td>\n",
              "      <td>0.078970</td>\n",
              "      <td>0.043573</td>\n",
              "      <td>0.066435</td>\n",
              "      <td>...</td>\n",
              "      <td>0.0</td>\n",
              "      <td>0.0</td>\n",
              "      <td>0.0</td>\n",
              "      <td>0.0</td>\n",
              "      <td>0.0</td>\n",
              "      <td>0.0</td>\n",
              "      <td>0.0</td>\n",
              "      <td>0.0</td>\n",
              "      <td>0.0</td>\n",
              "      <td>0.0</td>\n",
              "    </tr>\n",
              "    <tr>\n",
              "      <th>4</th>\n",
              "      <td>0.693693</td>\n",
              "      <td>0.827298</td>\n",
              "      <td>0.119556</td>\n",
              "      <td>0.059384</td>\n",
              "      <td>0.087469</td>\n",
              "      <td>0.110351</td>\n",
              "      <td>0.066213</td>\n",
              "      <td>0.082092</td>\n",
              "      <td>0.049471</td>\n",
              "      <td>0.066369</td>\n",
              "      <td>...</td>\n",
              "      <td>0.0</td>\n",
              "      <td>0.0</td>\n",
              "      <td>0.0</td>\n",
              "      <td>0.0</td>\n",
              "      <td>0.0</td>\n",
              "      <td>0.0</td>\n",
              "      <td>0.0</td>\n",
              "      <td>0.0</td>\n",
              "      <td>0.0</td>\n",
              "      <td>0.0</td>\n",
              "    </tr>\n",
              "    <tr>\n",
              "      <th>...</th>\n",
              "      <td>...</td>\n",
              "      <td>...</td>\n",
              "      <td>...</td>\n",
              "      <td>...</td>\n",
              "      <td>...</td>\n",
              "      <td>...</td>\n",
              "      <td>...</td>\n",
              "      <td>...</td>\n",
              "      <td>...</td>\n",
              "      <td>...</td>\n",
              "      <td>...</td>\n",
              "      <td>...</td>\n",
              "      <td>...</td>\n",
              "      <td>...</td>\n",
              "      <td>...</td>\n",
              "      <td>...</td>\n",
              "      <td>...</td>\n",
              "      <td>...</td>\n",
              "      <td>...</td>\n",
              "      <td>...</td>\n",
              "      <td>...</td>\n",
              "    </tr>\n",
              "    <tr>\n",
              "      <th>149357</th>\n",
              "      <td>0.323226</td>\n",
              "      <td>0.353626</td>\n",
              "      <td>0.157593</td>\n",
              "      <td>0.066298</td>\n",
              "      <td>0.058167</td>\n",
              "      <td>0.130438</td>\n",
              "      <td>0.429522</td>\n",
              "      <td>0.785093</td>\n",
              "      <td>0.922032</td>\n",
              "      <td>0.997242</td>\n",
              "      <td>...</td>\n",
              "      <td>0.0</td>\n",
              "      <td>0.0</td>\n",
              "      <td>0.0</td>\n",
              "      <td>0.0</td>\n",
              "      <td>0.0</td>\n",
              "      <td>0.0</td>\n",
              "      <td>0.0</td>\n",
              "      <td>0.0</td>\n",
              "      <td>0.0</td>\n",
              "      <td>0.0</td>\n",
              "    </tr>\n",
              "    <tr>\n",
              "      <th>149358</th>\n",
              "      <td>0.696857</td>\n",
              "      <td>0.671122</td>\n",
              "      <td>0.061700</td>\n",
              "      <td>0.078461</td>\n",
              "      <td>0.056841</td>\n",
              "      <td>0.068854</td>\n",
              "      <td>0.039561</td>\n",
              "      <td>0.062272</td>\n",
              "      <td>0.048856</td>\n",
              "      <td>0.062665</td>\n",
              "      <td>...</td>\n",
              "      <td>0.0</td>\n",
              "      <td>0.0</td>\n",
              "      <td>0.0</td>\n",
              "      <td>0.0</td>\n",
              "      <td>0.0</td>\n",
              "      <td>0.0</td>\n",
              "      <td>0.0</td>\n",
              "      <td>0.0</td>\n",
              "      <td>0.0</td>\n",
              "      <td>0.0</td>\n",
              "    </tr>\n",
              "    <tr>\n",
              "      <th>149359</th>\n",
              "      <td>0.719439</td>\n",
              "      <td>0.719067</td>\n",
              "      <td>0.156641</td>\n",
              "      <td>0.149131</td>\n",
              "      <td>0.095305</td>\n",
              "      <td>0.161552</td>\n",
              "      <td>0.108794</td>\n",
              "      <td>0.146510</td>\n",
              "      <td>0.105051</td>\n",
              "      <td>0.142070</td>\n",
              "      <td>...</td>\n",
              "      <td>0.0</td>\n",
              "      <td>0.0</td>\n",
              "      <td>0.0</td>\n",
              "      <td>0.0</td>\n",
              "      <td>0.0</td>\n",
              "      <td>0.0</td>\n",
              "      <td>0.0</td>\n",
              "      <td>0.0</td>\n",
              "      <td>0.0</td>\n",
              "      <td>0.0</td>\n",
              "    </tr>\n",
              "    <tr>\n",
              "      <th>149360</th>\n",
              "      <td>0.790847</td>\n",
              "      <td>0.667305</td>\n",
              "      <td>0.704660</td>\n",
              "      <td>0.732847</td>\n",
              "      <td>0.734461</td>\n",
              "      <td>0.714703</td>\n",
              "      <td>0.733889</td>\n",
              "      <td>0.745819</td>\n",
              "      <td>0.715121</td>\n",
              "      <td>0.707548</td>\n",
              "      <td>...</td>\n",
              "      <td>0.0</td>\n",
              "      <td>0.0</td>\n",
              "      <td>0.0</td>\n",
              "      <td>0.0</td>\n",
              "      <td>0.0</td>\n",
              "      <td>0.0</td>\n",
              "      <td>0.0</td>\n",
              "      <td>0.0</td>\n",
              "      <td>0.0</td>\n",
              "      <td>0.0</td>\n",
              "    </tr>\n",
              "    <tr>\n",
              "      <th>149361</th>\n",
              "      <td>0.802888</td>\n",
              "      <td>0.834503</td>\n",
              "      <td>0.545472</td>\n",
              "      <td>0.552610</td>\n",
              "      <td>0.480835</td>\n",
              "      <td>0.501292</td>\n",
              "      <td>0.474962</td>\n",
              "      <td>0.502716</td>\n",
              "      <td>0.475063</td>\n",
              "      <td>0.474981</td>\n",
              "      <td>...</td>\n",
              "      <td>0.0</td>\n",
              "      <td>0.0</td>\n",
              "      <td>0.0</td>\n",
              "      <td>0.0</td>\n",
              "      <td>0.0</td>\n",
              "      <td>0.0</td>\n",
              "      <td>0.0</td>\n",
              "      <td>0.0</td>\n",
              "      <td>0.0</td>\n",
              "      <td>0.0</td>\n",
              "    </tr>\n",
              "  </tbody>\n",
              "</table>\n",
              "<p>149362 rows × 187 columns</p>\n",
              "</div>\n",
              "      <button class=\"colab-df-convert\" onclick=\"convertToInteractive('df-b212305f-874d-47b7-9601-027623d731fb')\"\n",
              "              title=\"Convert this dataframe to an interactive table.\"\n",
              "              style=\"display:none;\">\n",
              "        \n",
              "  <svg xmlns=\"http://www.w3.org/2000/svg\" height=\"24px\"viewBox=\"0 0 24 24\"\n",
              "       width=\"24px\">\n",
              "    <path d=\"M0 0h24v24H0V0z\" fill=\"none\"/>\n",
              "    <path d=\"M18.56 5.44l.94 2.06.94-2.06 2.06-.94-2.06-.94-.94-2.06-.94 2.06-2.06.94zm-11 1L8.5 8.5l.94-2.06 2.06-.94-2.06-.94L8.5 2.5l-.94 2.06-2.06.94zm10 10l.94 2.06.94-2.06 2.06-.94-2.06-.94-.94-2.06-.94 2.06-2.06.94z\"/><path d=\"M17.41 7.96l-1.37-1.37c-.4-.4-.92-.59-1.43-.59-.52 0-1.04.2-1.43.59L10.3 9.45l-7.72 7.72c-.78.78-.78 2.05 0 2.83L4 21.41c.39.39.9.59 1.41.59.51 0 1.02-.2 1.41-.59l7.78-7.78 2.81-2.81c.8-.78.8-2.07 0-2.86zM5.41 20L4 18.59l7.72-7.72 1.47 1.35L5.41 20z\"/>\n",
              "  </svg>\n",
              "      </button>\n",
              "      \n",
              "  <style>\n",
              "    .colab-df-container {\n",
              "      display:flex;\n",
              "      flex-wrap:wrap;\n",
              "      gap: 12px;\n",
              "    }\n",
              "\n",
              "    .colab-df-convert {\n",
              "      background-color: #E8F0FE;\n",
              "      border: none;\n",
              "      border-radius: 50%;\n",
              "      cursor: pointer;\n",
              "      display: none;\n",
              "      fill: #1967D2;\n",
              "      height: 32px;\n",
              "      padding: 0 0 0 0;\n",
              "      width: 32px;\n",
              "    }\n",
              "\n",
              "    .colab-df-convert:hover {\n",
              "      background-color: #E2EBFA;\n",
              "      box-shadow: 0px 1px 2px rgba(60, 64, 67, 0.3), 0px 1px 3px 1px rgba(60, 64, 67, 0.15);\n",
              "      fill: #174EA6;\n",
              "    }\n",
              "\n",
              "    [theme=dark] .colab-df-convert {\n",
              "      background-color: #3B4455;\n",
              "      fill: #D2E3FC;\n",
              "    }\n",
              "\n",
              "    [theme=dark] .colab-df-convert:hover {\n",
              "      background-color: #434B5C;\n",
              "      box-shadow: 0px 1px 3px 1px rgba(0, 0, 0, 0.15);\n",
              "      filter: drop-shadow(0px 1px 2px rgba(0, 0, 0, 0.3));\n",
              "      fill: #FFFFFF;\n",
              "    }\n",
              "  </style>\n",
              "\n",
              "      <script>\n",
              "        const buttonEl =\n",
              "          document.querySelector('#df-b212305f-874d-47b7-9601-027623d731fb button.colab-df-convert');\n",
              "        buttonEl.style.display =\n",
              "          google.colab.kernel.accessAllowed ? 'block' : 'none';\n",
              "\n",
              "        async function convertToInteractive(key) {\n",
              "          const element = document.querySelector('#df-b212305f-874d-47b7-9601-027623d731fb');\n",
              "          const dataTable =\n",
              "            await google.colab.kernel.invokeFunction('convertToInteractive',\n",
              "                                                     [key], {});\n",
              "          if (!dataTable) return;\n",
              "\n",
              "          const docLinkHtml = 'Like what you see? Visit the ' +\n",
              "            '<a target=\"_blank\" href=https://colab.research.google.com/notebooks/data_table.ipynb>data table notebook</a>'\n",
              "            + ' to learn more about interactive tables.';\n",
              "          element.innerHTML = '';\n",
              "          dataTable['output_type'] = 'display_data';\n",
              "          await google.colab.output.renderOutput(dataTable, element);\n",
              "          const docLink = document.createElement('div');\n",
              "          docLink.innerHTML = docLinkHtml;\n",
              "          element.appendChild(docLink);\n",
              "        }\n",
              "      </script>\n",
              "    </div>\n",
              "  </div>\n",
              "  "
            ]
          },
          "metadata": {},
          "execution_count": 14
        }
      ],
      "source": [
        "from sklearn.model_selection import StratifiedKFold\n",
        "kf=StratifiedKFold(n_splits=3)\n",
        "x=df.drop([187],axis='columns')\n",
        "y=df[187]\n",
        "x"
      ]
    },
    {
      "cell_type": "code",
      "execution_count": 15,
      "metadata": {
        "id": "J8F60LBYJJKp",
        "colab": {
          "base_uri": "https://localhost:8080/"
        },
        "outputId": "a7dded0b-ba46-4526-a5a1-9e1fdab7b21e"
      },
      "outputs": [
        {
          "output_type": "stream",
          "name": "stdout",
          "text": [
            "              precision    recall  f1-score   support\n",
            "\n",
            "         0.0       0.82      0.97      0.89     37483\n",
            "         1.0       1.00      1.00      1.00         3\n",
            "         2.0       0.86      0.27      0.41      1595\n",
            "         3.0       0.97      0.51      0.67       273\n",
            "         4.0       0.75      0.33      0.46     10434\n",
            "\n",
            "    accuracy                           0.81     49788\n",
            "   macro avg       0.88      0.62      0.68     49788\n",
            "weighted avg       0.81      0.81      0.78     49788\n",
            "\n",
            "              precision    recall  f1-score   support\n",
            "\n",
            "         0.0       0.81      0.94      0.87     37482\n",
            "         1.0       1.00      1.00      1.00         2\n",
            "         2.0       0.40      0.46      0.43      1594\n",
            "         3.0       0.41      0.65      0.50       274\n",
            "         4.0       0.64      0.22      0.33     10435\n",
            "\n",
            "    accuracy                           0.77     49787\n",
            "   macro avg       0.65      0.65      0.63     49787\n",
            "weighted avg       0.76      0.77      0.74     49787\n",
            "\n",
            "              precision    recall  f1-score   support\n",
            "\n",
            "         0.0       0.82      0.96      0.89     37482\n",
            "         1.0       1.00      1.00      1.00         3\n",
            "         2.0       0.40      0.54      0.46      1594\n",
            "         3.0       0.56      0.28      0.37       273\n",
            "         4.0       0.71      0.24      0.36     10435\n",
            "\n",
            "    accuracy                           0.80     49787\n",
            "   macro avg       0.70      0.61      0.62     49787\n",
            "weighted avg       0.78      0.80      0.76     49787\n",
            "\n"
          ]
        }
      ],
      "source": [
        "for train_index,test_index in kf.split(x,y):\n",
        "  x_train,x_test=x.iloc[train_index],x.iloc[test_index]\n",
        "  y_train,y_test=y.iloc[train_index],y.iloc[test_index]\n",
        "  model_rf=RandomForestClassifier()\n",
        "  model_rf.fit(x_train,y_train)\n",
        "  predict_rf=model_rf.predict(x_test)\n",
        "  print(classification_report(y_test,predict_rf))\n",
        "\n",
        "\n",
        "\n"
      ]
    },
    {
      "cell_type": "markdown",
      "source": [
        "# ***Train Test Split***"
      ],
      "metadata": {
        "id": "NxIo-kgwdVMe"
      }
    },
    {
      "cell_type": "code",
      "execution_count": 18,
      "metadata": {
        "id": "jd0Hgb_7LK21"
      },
      "outputs": [],
      "source": [
        "from sklearn.model_selection import train_test_split\n",
        "x_train,x_test,y_train,y_test=train_test_split(x,y,test_size=0.33)\n",
        "model1=RandomForestClassifier()\n",
        "model1.fit(x_train,y_train)\n",
        "predict_1=model1.predict(x_test)\n",
        "cm = confusion_matrix(y_test, predict_1)\n",
        "# Display confusion matrix\n",
        "\n"
      ]
    },
    {
      "cell_type": "code",
      "execution_count": 17,
      "metadata": {
        "colab": {
          "base_uri": "https://localhost:8080/"
        },
        "id": "Rlvkt4ogRu_0",
        "outputId": "30cb5b40-a16a-4cf1-a699-67604b3a221d"
      },
      "outputs": [
        {
          "output_type": "stream",
          "name": "stdout",
          "text": [
            "              precision    recall  f1-score   support\n",
            "\n",
            "         0.0       0.97      1.00      0.98     37148\n",
            "         1.0       0.00      0.00      0.00         2\n",
            "         2.0       0.92      0.82      0.87      1525\n",
            "         3.0       0.96      0.65      0.77       249\n",
            "         4.0       0.99      0.93      0.96     10366\n",
            "\n",
            "    accuracy                           0.97     49290\n",
            "   macro avg       0.77      0.68      0.72     49290\n",
            "weighted avg       0.97      0.97      0.97     49290\n",
            "\n"
          ]
        },
        {
          "output_type": "stream",
          "name": "stderr",
          "text": [
            "/usr/local/lib/python3.9/dist-packages/sklearn/metrics/_classification.py:1344: UndefinedMetricWarning: Precision and F-score are ill-defined and being set to 0.0 in labels with no predicted samples. Use `zero_division` parameter to control this behavior.\n",
            "  _warn_prf(average, modifier, msg_start, len(result))\n",
            "/usr/local/lib/python3.9/dist-packages/sklearn/metrics/_classification.py:1344: UndefinedMetricWarning: Precision and F-score are ill-defined and being set to 0.0 in labels with no predicted samples. Use `zero_division` parameter to control this behavior.\n",
            "  _warn_prf(average, modifier, msg_start, len(result))\n",
            "/usr/local/lib/python3.9/dist-packages/sklearn/metrics/_classification.py:1344: UndefinedMetricWarning: Precision and F-score are ill-defined and being set to 0.0 in labels with no predicted samples. Use `zero_division` parameter to control this behavior.\n",
            "  _warn_prf(average, modifier, msg_start, len(result))\n"
          ]
        }
      ],
      "source": [
        "print(classification_report(y_test,predict_1))"
      ]
    },
    {
      "cell_type": "code",
      "source": [
        "print(cm)"
      ],
      "metadata": {
        "colab": {
          "base_uri": "https://localhost:8080/"
        },
        "id": "QqOe76KaQ5p-",
        "outputId": "175d81e9-e9e8-43a3-a275-94c861ce0b57"
      },
      "execution_count": 19,
      "outputs": [
        {
          "output_type": "stream",
          "name": "stdout",
          "text": [
            "[[36935     0    37     0    85]\n",
            " [    0     2     0     0     0]\n",
            " [  233     0  1325     6    12]\n",
            " [   91     0    22   183     1]\n",
            " [  728     0    29     0  9601]]\n"
          ]
        }
      ]
    },
    {
      "cell_type": "markdown",
      "source": [
        "# ***Confusion Matrix***"
      ],
      "metadata": {
        "id": "edLAkAdWdcni"
      }
    },
    {
      "cell_type": "code",
      "source": [
        "import seaborn as sns\n",
        "sns.heatmap(cm, annot=True, cmap=\"YlGnBu\", fmt=\"d\", cbar=False)\n",
        "\n",
        "# Add labels and title to the plot\n",
        "plt.xlabel(\"Predicted labels\")\n",
        "plt.ylabel(\"True labels\")\n",
        "plt.title(\"Confusion Matrix\")\n",
        "plt.show()\n"
      ],
      "metadata": {
        "colab": {
          "base_uri": "https://localhost:8080/",
          "height": 472
        },
        "id": "9ujEuosLRTbx",
        "outputId": "92ffd797-fe1f-4538-8ee1-f185e612f956"
      },
      "execution_count": 23,
      "outputs": [
        {
          "output_type": "display_data",
          "data": {
            "text/plain": [
              "<Figure size 640x480 with 1 Axes>"
            ],
            "image/png": "[encoded data removed]"
          },
          "metadata": {}
        }
      ]
    }
  ],
  "metadata": {
    "colab": {
      "provenance": []
    },
    "kernelspec": {
      "display_name": "Python 3",
      "name": "python3"
    },
    "language_info": {
      "name": "python"
    }
  },
  "nbformat": 4,
  "nbformat_minor": 0
}